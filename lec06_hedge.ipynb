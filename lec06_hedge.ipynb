{
  "cells": [
    {
      "cell_type": "markdown",
      "metadata": {
        "id": "view-in-github",
        "colab_type": "text"
      },
      "source": [
        "<a href=\"https://colab.research.google.com/github/gjrkdgh0772/Finance/blob/main/lec06_hedge.ipynb\" target=\"_parent\"><img src=\"https://colab.research.google.com/assets/colab-badge.svg\" alt=\"Open In Colab\"/></a>"
      ]
    },
    {
      "cell_type": "markdown",
      "id": "e2b66d24-2769-4fb6-a6eb-5d1a2c6d6055",
      "metadata": {
        "id": "e2b66d24-2769-4fb6-a6eb-5d1a2c6d6055"
      },
      "source": [
        "<font size=6><b>Lec06. 헷지(Hedge) &  상관분석(Corr.)"
      ]
    },
    {
      "cell_type": "markdown",
      "id": "c2948ab4-41e3-4c6b-83b0-44bc0444a3bb",
      "metadata": {
        "id": "c2948ab4-41e3-4c6b-83b0-44bc0444a3bb"
      },
      "source": [
        "* <b>포트폴리오(Portfolio)</b><br>\n",
        "위험을 줄이고\", \"투자수익을 극대화\" 하기 위한 일환으로 여러 종목에 분산 투자하는 방법 \n",
        "* High Risk, High Return : 위험을 부담할수록 더 높은 수익 가능 분산투자 : 단순히 여러 종목을 사는 것이 아니라 위험을 분산(상관관계 0) 다양한 자산군( '국내 주식', '해외 주식', '달러', '금', '채권', '부동산' 등)에 자본은 분배하여 포트폴리오 구성\n",
        "\n",
        "* <b>위험의 헷지(Hedge)</b><br>\n",
        "'포트폴리오'라 함은 서로 음의 상관관계를 가진 종목들로 구성하여 어떤 종목이 떨어질 때 다른 종목은 상승하여 그 손실을 줄이는 데에 목적\n",
        "* 음의 상관관계를 가진 자산들을 함께 운용해 나가면서 위험을 최소화 하고, 위험이 최소화된 상태에서의 수익률을 극대화 하는 것"
      ]
    },
    {
      "cell_type": "code",
      "execution_count": null,
      "id": "a2a4d65c-1b24-4d2d-81db-a7fb8d51a3d2",
      "metadata": {
        "id": "a2a4d65c-1b24-4d2d-81db-a7fb8d51a3d2",
        "outputId": "e644f243-ede4-4c1b-9150-c73a86bef9b3"
      },
      "outputs": [
        {
          "data": {
            "text/html": [
              "<style>.container{width:100% !important;}</style>"
            ],
            "text/plain": [
              "<IPython.core.display.HTML object>"
            ]
          },
          "metadata": {},
          "output_type": "display_data"
        }
      ],
      "source": [
        "import pandas as pd\n",
        "import numpy as np\n",
        "import matplotlib.pyplot as plt\n",
        "import seaborn as sns\n",
        "import os\n",
        "\n",
        "import warnings\n",
        "warnings.filterwarnings(action='ignore')\n",
        "\n",
        "#-------------------- 차트 관련 속성 (한글처리, 그리드) -----------\n",
        "#plt.rc('font', family='NanumGothicOTF') # For MacOS\n",
        "plt.rcParams['font.family']= 'Malgun Gothic'\n",
        "plt.rcParams['axes.unicode_minus'] = False\n",
        "sns.set()\n",
        "\n",
        "#-------------------- 주피터 , 출력결과 넓이 늘리기 ---------------\n",
        "from IPython.core.display import display, HTML\n",
        "display(HTML(\"<style>.container{width:100% !important;}</style>\"))\n",
        "pd.set_option('display.max_rows', 100)\n",
        "pd.set_option('display.max_columns', 100)\n",
        "pd.set_option('max_colwidth', None)\n"
      ]
    },
    {
      "cell_type": "markdown",
      "id": "8927139a-a8d1-4ed4-b223-1da7d8d4ba95",
      "metadata": {
        "id": "8927139a-a8d1-4ed4-b223-1da7d8d4ba95"
      },
      "source": [
        "# Data Load"
      ]
    },
    {
      "cell_type": "markdown",
      "id": "3ee27ac3-7512-4e61-9e9e-b492d8b99d41",
      "metadata": {
        "id": "3ee27ac3-7512-4e61-9e9e-b492d8b99d41"
      },
      "source": [
        "<pre>\n",
        "Nasdaq(SPY) : https://kr.investing.com/indices/nq-100\t\n",
        "S&P500(GSPC) : https://kr.investing.com/indices/us-spx-500\n",
        "Dow_J.(DJI) : https://kr.investing.com/indices/us-30-historical-data\n",
        "SBond(SHY) : https://kr.investing.com/etfs/spdr-s-p-500\t\n",
        "                 : https://www.ishares.com/us/products/239452/ishares-13-year-treasury-bond-etf\n",
        "GBond(TLT) : https://kr.investing.com/etfs/ishares-lehman-20-year-treas-historical-data\n",
        "                 : https://www.ishares.com/us/products/239454/ishares-20-year-treasury-bond-etf\n",
        "KOSPI(KS11) : https://kr.investing.com/indices/kospi\t\t\n",
        "GLD : https://kr.investing.com/etfs/spdr-gold-trust-historical-data\n",
        "EX_US: https://kr.investing.com/currencies/usd-krw-historical-data\t\n"
      ]
    },
    {
      "cell_type": "markdown",
      "id": "c58977a0-f00a-42a0-a5c7-26a241f1f762",
      "metadata": {
        "id": "c58977a0-f00a-42a0-a5c7-26a241f1f762"
      },
      "source": [
        "* DJI <br>\n",
        "3M (NYSE : MMM) American Express (NYSE : AXP) Amgen (NASDAQ : AMGN) Apple (NASDAQ : AAPL) 보잉 (NYSE : BA) Caterpillar (NYSE : CAT) Chevron (NYSE : CVX) Cisco Systems (NASDAQ : CSCO) 코카콜라 (NYSE : KO) 디즈니 (NYSE : DIS) 다우 (NYSE : DOW) Goldman Sachs (NYSE : GS) Home Depot (NYSE : HD) Honeywell International (NYSE : HON) IBM (NYSE : IBM) Intel (NASDAQ : INTC) Johnson & Johnson (NYSE : JNJ) JPMorgan Chase (NYSE : JPM) 맥도날드 (NYSE : MCD) Merck (NYSE : MRK) Microsoft (NASDAQ : MSFT) 나이키 (NYSE : NKE) Procter & Gamble (NYSE : PG) Salesforce (NYSE : CRM) 여행자 (NYSE : TRV) UnitedHealth Group (NYSE : UNH) Verizon (NYSE : VZ) 비자 (NYSE : V) Walmart (NYSE : WMT) Walgreens Boots Alliance (NASDAQ : WBA)"
      ]
    },
    {
      "cell_type": "code",
      "execution_count": null,
      "id": "ae478f20-f00b-4281-be3f-e18296cbb6f4",
      "metadata": {
        "id": "ae478f20-f00b-4281-be3f-e18296cbb6f4",
        "outputId": "f77b64b0-beb2-4e07-c3c7-fe2419e1f807"
      },
      "outputs": [
        {
          "name": "stdout",
          "output_type": "stream",
          "text": [
            "(590, 7)\n",
            "<class 'pandas.core.frame.DataFrame'>\n",
            "RangeIndex: 590 entries, 0 to 589\n",
            "Data columns (total 7 columns):\n",
            " #   Column  Non-Null Count  Dtype  \n",
            "---  ------  --------------  -----  \n",
            " 0   날짜      590 non-null    object \n",
            " 1   종가      590 non-null    float64\n",
            " 2   오픈      590 non-null    float64\n",
            " 3   고가      590 non-null    float64\n",
            " 4   저가      590 non-null    float64\n",
            " 5   거래량     590 non-null    object \n",
            " 6   변동 %    590 non-null    object \n",
            "dtypes: float64(4), object(3)\n",
            "memory usage: 32.4+ KB\n",
            "None\n"
          ]
        },
        {
          "data": {
            "text/html": [
              "<div>\n",
              "<style scoped>\n",
              "    .dataframe tbody tr th:only-of-type {\n",
              "        vertical-align: middle;\n",
              "    }\n",
              "\n",
              "    .dataframe tbody tr th {\n",
              "        vertical-align: top;\n",
              "    }\n",
              "\n",
              "    .dataframe thead th {\n",
              "        text-align: right;\n",
              "    }\n",
              "</style>\n",
              "<table border=\"1\" class=\"dataframe\">\n",
              "  <thead>\n",
              "    <tr style=\"text-align: right;\">\n",
              "      <th></th>\n",
              "      <th>날짜</th>\n",
              "      <th>종가</th>\n",
              "      <th>오픈</th>\n",
              "      <th>고가</th>\n",
              "      <th>저가</th>\n",
              "      <th>거래량</th>\n",
              "      <th>변동 %</th>\n",
              "    </tr>\n",
              "  </thead>\n",
              "  <tbody>\n",
              "    <tr>\n",
              "      <th>0</th>\n",
              "      <td>2022년 3월</td>\n",
              "      <td>34707.15</td>\n",
              "      <td>33813.48</td>\n",
              "      <td>34876.87</td>\n",
              "      <td>32578.73</td>\n",
              "      <td>-</td>\n",
              "      <td>2.44%</td>\n",
              "    </tr>\n",
              "    <tr>\n",
              "      <th>1</th>\n",
              "      <td>2022년 2월</td>\n",
              "      <td>33879.55</td>\n",
              "      <td>35151.47</td>\n",
              "      <td>35824.28</td>\n",
              "      <td>32284.35</td>\n",
              "      <td>2.50B</td>\n",
              "      <td>-3.56%</td>\n",
              "    </tr>\n",
              "    <tr>\n",
              "      <th>2</th>\n",
              "      <td>2022년 1월</td>\n",
              "      <td>35131.86</td>\n",
              "      <td>36321.59</td>\n",
              "      <td>36952.65</td>\n",
              "      <td>33150.33</td>\n",
              "      <td>8.90B</td>\n",
              "      <td>-3.32%</td>\n",
              "    </tr>\n",
              "    <tr>\n",
              "      <th>3</th>\n",
              "      <td>2021년 12월</td>\n",
              "      <td>36338.30</td>\n",
              "      <td>34678.94</td>\n",
              "      <td>36679.44</td>\n",
              "      <td>34006.98</td>\n",
              "      <td>8.41B</td>\n",
              "      <td>5.38%</td>\n",
              "    </tr>\n",
              "    <tr>\n",
              "      <th>4</th>\n",
              "      <td>2021년 11월</td>\n",
              "      <td>34483.72</td>\n",
              "      <td>35833.65</td>\n",
              "      <td>36565.73</td>\n",
              "      <td>34424.44</td>\n",
              "      <td>7.23B</td>\n",
              "      <td>-3.73%</td>\n",
              "    </tr>\n",
              "  </tbody>\n",
              "</table>\n",
              "</div>"
            ],
            "text/plain": [
              "          날짜        종가        오픈        고가        저가    거래량    변동 %\n",
              "0   2022년 3월  34707.15  33813.48  34876.87  32578.73      -   2.44%\n",
              "1   2022년 2월  33879.55  35151.47  35824.28  32284.35  2.50B  -3.56%\n",
              "2   2022년 1월  35131.86  36321.59  36952.65  33150.33  8.90B  -3.32%\n",
              "3  2021년 12월  36338.30  34678.94  36679.44  34006.98  8.41B   5.38%\n",
              "4  2021년 11월  34483.72  35833.65  36565.73  34424.44  7.23B  -3.73%"
            ]
          },
          "execution_count": 2,
          "metadata": {},
          "output_type": "execute_result"
        }
      ],
      "source": [
        "DJ = pd.read_csv(\"./dataset/lec06_index_dataset/DJ.csv\", thousands=\",\")\n",
        "print(DJ.shape)\n",
        "print(DJ.info())\n",
        "DJ.head()"
      ]
    },
    {
      "cell_type": "markdown",
      "id": "9b492fa4-2480-494f-a06a-7833640360e5",
      "metadata": {
        "id": "9b492fa4-2480-494f-a06a-7833640360e5"
      },
      "source": [
        "## 거래량 \n",
        "* K M B 처리\n",
        "* K(kilo)1,000 M(million)1,000,000 B(billion)1,000,000,000"
      ]
    },
    {
      "cell_type": "code",
      "execution_count": null,
      "id": "e80d0654-fb66-40c4-80a6-c9223cc63e1b",
      "metadata": {
        "id": "e80d0654-fb66-40c4-80a6-c9223cc63e1b",
        "outputId": "a20cd072-b7c3-4454-fc72-99f891b57692"
      },
      "outputs": [
        {
          "data": {
            "text/html": [
              "<div>\n",
              "<style scoped>\n",
              "    .dataframe tbody tr th:only-of-type {\n",
              "        vertical-align: middle;\n",
              "    }\n",
              "\n",
              "    .dataframe tbody tr th {\n",
              "        vertical-align: top;\n",
              "    }\n",
              "\n",
              "    .dataframe thead th {\n",
              "        text-align: right;\n",
              "    }\n",
              "</style>\n",
              "<table border=\"1\" class=\"dataframe\">\n",
              "  <thead>\n",
              "    <tr style=\"text-align: right;\">\n",
              "      <th></th>\n",
              "      <th>날짜</th>\n",
              "      <th>종가</th>\n",
              "      <th>오픈</th>\n",
              "      <th>고가</th>\n",
              "      <th>저가</th>\n",
              "      <th>거래량</th>\n",
              "      <th>변동 %</th>\n",
              "    </tr>\n",
              "  </thead>\n",
              "  <tbody>\n",
              "    <tr>\n",
              "      <th>0</th>\n",
              "      <td>2022년 3월</td>\n",
              "      <td>34707.15</td>\n",
              "      <td>33813.48</td>\n",
              "      <td>34876.87</td>\n",
              "      <td>32578.73</td>\n",
              "      <td>0.000000e+00</td>\n",
              "      <td>2.44%</td>\n",
              "    </tr>\n",
              "    <tr>\n",
              "      <th>1</th>\n",
              "      <td>2022년 2월</td>\n",
              "      <td>33879.55</td>\n",
              "      <td>35151.47</td>\n",
              "      <td>35824.28</td>\n",
              "      <td>32284.35</td>\n",
              "      <td>2.500000e+09</td>\n",
              "      <td>-3.56%</td>\n",
              "    </tr>\n",
              "    <tr>\n",
              "      <th>2</th>\n",
              "      <td>2022년 1월</td>\n",
              "      <td>35131.86</td>\n",
              "      <td>36321.59</td>\n",
              "      <td>36952.65</td>\n",
              "      <td>33150.33</td>\n",
              "      <td>8.900000e+09</td>\n",
              "      <td>-3.32%</td>\n",
              "    </tr>\n",
              "    <tr>\n",
              "      <th>3</th>\n",
              "      <td>2021년 12월</td>\n",
              "      <td>36338.30</td>\n",
              "      <td>34678.94</td>\n",
              "      <td>36679.44</td>\n",
              "      <td>34006.98</td>\n",
              "      <td>8.410000e+09</td>\n",
              "      <td>5.38%</td>\n",
              "    </tr>\n",
              "    <tr>\n",
              "      <th>4</th>\n",
              "      <td>2021년 11월</td>\n",
              "      <td>34483.72</td>\n",
              "      <td>35833.65</td>\n",
              "      <td>36565.73</td>\n",
              "      <td>34424.44</td>\n",
              "      <td>7.230000e+09</td>\n",
              "      <td>-3.73%</td>\n",
              "    </tr>\n",
              "  </tbody>\n",
              "</table>\n",
              "</div>"
            ],
            "text/plain": [
              "          날짜        종가        오픈        고가        저가           거래량    변동 %\n",
              "0   2022년 3월  34707.15  33813.48  34876.87  32578.73  0.000000e+00   2.44%\n",
              "1   2022년 2월  33879.55  35151.47  35824.28  32284.35  2.500000e+09  -3.56%\n",
              "2   2022년 1월  35131.86  36321.59  36952.65  33150.33  8.900000e+09  -3.32%\n",
              "3  2021년 12월  36338.30  34678.94  36679.44  34006.98  8.410000e+09   5.38%\n",
              "4  2021년 11월  34483.72  35833.65  36565.73  34424.44  7.230000e+09  -3.73%"
            ]
          },
          "execution_count": 3,
          "metadata": {},
          "output_type": "execute_result"
        }
      ],
      "source": [
        "def alphabet_handling(x):\n",
        "    res = 0\n",
        "    if 'B' in x:\n",
        "        res = float(x[:-1])*1000000000\n",
        "    elif 'K' in x:\n",
        "        res = float(x[:-1])*1000\n",
        "    elif 'M' in x:\n",
        "        res = float(x[:-1])*1000000\n",
        "    else:\n",
        "        res = 0 \n",
        "    return res\n",
        "DJ['거래량']=DJ['거래량'].apply(lambda x : alphabet_handling(x))\n",
        "DJ.head()"
      ]
    },
    {
      "cell_type": "markdown",
      "id": "33f36f4b-4b93-40bb-adef-496c102af94e",
      "metadata": {
        "id": "33f36f4b-4b93-40bb-adef-496c102af94e"
      },
      "source": [
        "## 변동 %"
      ]
    },
    {
      "cell_type": "code",
      "execution_count": null,
      "id": "eae2da77-6c62-468a-98f7-62373f2ef55d",
      "metadata": {
        "id": "eae2da77-6c62-468a-98f7-62373f2ef55d",
        "outputId": "724597a8-f487-4cc9-e3eb-a26ecf7d188b"
      },
      "outputs": [
        {
          "data": {
            "text/html": [
              "<div>\n",
              "<style scoped>\n",
              "    .dataframe tbody tr th:only-of-type {\n",
              "        vertical-align: middle;\n",
              "    }\n",
              "\n",
              "    .dataframe tbody tr th {\n",
              "        vertical-align: top;\n",
              "    }\n",
              "\n",
              "    .dataframe thead th {\n",
              "        text-align: right;\n",
              "    }\n",
              "</style>\n",
              "<table border=\"1\" class=\"dataframe\">\n",
              "  <thead>\n",
              "    <tr style=\"text-align: right;\">\n",
              "      <th></th>\n",
              "      <th>날짜</th>\n",
              "      <th>종가</th>\n",
              "      <th>오픈</th>\n",
              "      <th>고가</th>\n",
              "      <th>저가</th>\n",
              "      <th>거래량</th>\n",
              "      <th>변동률</th>\n",
              "    </tr>\n",
              "  </thead>\n",
              "  <tbody>\n",
              "    <tr>\n",
              "      <th>0</th>\n",
              "      <td>2022년 3월</td>\n",
              "      <td>34707.15</td>\n",
              "      <td>33813.48</td>\n",
              "      <td>34876.87</td>\n",
              "      <td>32578.73</td>\n",
              "      <td>0.000000e+00</td>\n",
              "      <td>2.44</td>\n",
              "    </tr>\n",
              "    <tr>\n",
              "      <th>1</th>\n",
              "      <td>2022년 2월</td>\n",
              "      <td>33879.55</td>\n",
              "      <td>35151.47</td>\n",
              "      <td>35824.28</td>\n",
              "      <td>32284.35</td>\n",
              "      <td>2.500000e+09</td>\n",
              "      <td>-3.56</td>\n",
              "    </tr>\n",
              "    <tr>\n",
              "      <th>2</th>\n",
              "      <td>2022년 1월</td>\n",
              "      <td>35131.86</td>\n",
              "      <td>36321.59</td>\n",
              "      <td>36952.65</td>\n",
              "      <td>33150.33</td>\n",
              "      <td>8.900000e+09</td>\n",
              "      <td>-3.32</td>\n",
              "    </tr>\n",
              "    <tr>\n",
              "      <th>3</th>\n",
              "      <td>2021년 12월</td>\n",
              "      <td>36338.30</td>\n",
              "      <td>34678.94</td>\n",
              "      <td>36679.44</td>\n",
              "      <td>34006.98</td>\n",
              "      <td>8.410000e+09</td>\n",
              "      <td>5.38</td>\n",
              "    </tr>\n",
              "    <tr>\n",
              "      <th>4</th>\n",
              "      <td>2021년 11월</td>\n",
              "      <td>34483.72</td>\n",
              "      <td>35833.65</td>\n",
              "      <td>36565.73</td>\n",
              "      <td>34424.44</td>\n",
              "      <td>7.230000e+09</td>\n",
              "      <td>-3.73</td>\n",
              "    </tr>\n",
              "  </tbody>\n",
              "</table>\n",
              "</div>"
            ],
            "text/plain": [
              "          날짜        종가        오픈        고가        저가           거래량   변동률\n",
              "0   2022년 3월  34707.15  33813.48  34876.87  32578.73  0.000000e+00  2.44\n",
              "1   2022년 2월  33879.55  35151.47  35824.28  32284.35  2.500000e+09 -3.56\n",
              "2   2022년 1월  35131.86  36321.59  36952.65  33150.33  8.900000e+09 -3.32\n",
              "3  2021년 12월  36338.30  34678.94  36679.44  34006.98  8.410000e+09  5.38\n",
              "4  2021년 11월  34483.72  35833.65  36565.73  34424.44  7.230000e+09 -3.73"
            ]
          },
          "execution_count": 4,
          "metadata": {},
          "output_type": "execute_result"
        }
      ],
      "source": [
        "DJ = DJ.rename({\"변동 %\":\"변동률\"}, axis=1)\n",
        "DJ['변동률'] = DJ['변동률'].str.replace(\"%\",\"\").astype('float')\n",
        "DJ.head()"
      ]
    },
    {
      "cell_type": "markdown",
      "id": "f129955e-d6be-4566-bae0-cb3670ad05ec",
      "metadata": {
        "id": "f129955e-d6be-4566-bae0-cb3670ad05ec"
      },
      "source": [
        "## 날짜 \n",
        "* datetime 타입 변경, 인덱스지정, 포맷변환"
      ]
    },
    {
      "cell_type": "code",
      "execution_count": null,
      "id": "f660c092-4091-49f6-b7d7-ef0e714bc706",
      "metadata": {
        "id": "f660c092-4091-49f6-b7d7-ef0e714bc706",
        "outputId": "aea622c2-eb4a-479d-a939-54dff550cfa9"
      },
      "outputs": [
        {
          "data": {
            "text/html": [
              "<div>\n",
              "<style scoped>\n",
              "    .dataframe tbody tr th:only-of-type {\n",
              "        vertical-align: middle;\n",
              "    }\n",
              "\n",
              "    .dataframe tbody tr th {\n",
              "        vertical-align: top;\n",
              "    }\n",
              "\n",
              "    .dataframe thead th {\n",
              "        text-align: right;\n",
              "    }\n",
              "</style>\n",
              "<table border=\"1\" class=\"dataframe\">\n",
              "  <thead>\n",
              "    <tr style=\"text-align: right;\">\n",
              "      <th></th>\n",
              "      <th>날짜</th>\n",
              "      <th>종가</th>\n",
              "      <th>오픈</th>\n",
              "      <th>고가</th>\n",
              "      <th>저가</th>\n",
              "      <th>거래량</th>\n",
              "      <th>변동률</th>\n",
              "    </tr>\n",
              "  </thead>\n",
              "  <tbody>\n",
              "    <tr>\n",
              "      <th>0</th>\n",
              "      <td>2022-03-01</td>\n",
              "      <td>34707.15</td>\n",
              "      <td>33813.48</td>\n",
              "      <td>34876.87</td>\n",
              "      <td>32578.73</td>\n",
              "      <td>0.000000e+00</td>\n",
              "      <td>2.44</td>\n",
              "    </tr>\n",
              "    <tr>\n",
              "      <th>1</th>\n",
              "      <td>2022-02-01</td>\n",
              "      <td>33879.55</td>\n",
              "      <td>35151.47</td>\n",
              "      <td>35824.28</td>\n",
              "      <td>32284.35</td>\n",
              "      <td>2.500000e+09</td>\n",
              "      <td>-3.56</td>\n",
              "    </tr>\n",
              "    <tr>\n",
              "      <th>2</th>\n",
              "      <td>2022-01-01</td>\n",
              "      <td>35131.86</td>\n",
              "      <td>36321.59</td>\n",
              "      <td>36952.65</td>\n",
              "      <td>33150.33</td>\n",
              "      <td>8.900000e+09</td>\n",
              "      <td>-3.32</td>\n",
              "    </tr>\n",
              "    <tr>\n",
              "      <th>3</th>\n",
              "      <td>2021-12-01</td>\n",
              "      <td>36338.30</td>\n",
              "      <td>34678.94</td>\n",
              "      <td>36679.44</td>\n",
              "      <td>34006.98</td>\n",
              "      <td>8.410000e+09</td>\n",
              "      <td>5.38</td>\n",
              "    </tr>\n",
              "    <tr>\n",
              "      <th>4</th>\n",
              "      <td>2021-11-01</td>\n",
              "      <td>34483.72</td>\n",
              "      <td>35833.65</td>\n",
              "      <td>36565.73</td>\n",
              "      <td>34424.44</td>\n",
              "      <td>7.230000e+09</td>\n",
              "      <td>-3.73</td>\n",
              "    </tr>\n",
              "  </tbody>\n",
              "</table>\n",
              "</div>"
            ],
            "text/plain": [
              "          날짜        종가        오픈        고가        저가           거래량   변동률\n",
              "0 2022-03-01  34707.15  33813.48  34876.87  32578.73  0.000000e+00  2.44\n",
              "1 2022-02-01  33879.55  35151.47  35824.28  32284.35  2.500000e+09 -3.56\n",
              "2 2022-01-01  35131.86  36321.59  36952.65  33150.33  8.900000e+09 -3.32\n",
              "3 2021-12-01  36338.30  34678.94  36679.44  34006.98  8.410000e+09  5.38\n",
              "4 2021-11-01  34483.72  35833.65  36565.73  34424.44  7.230000e+09 -3.73"
            ]
          },
          "execution_count": 5,
          "metadata": {},
          "output_type": "execute_result"
        }
      ],
      "source": [
        "DJ['날짜'] = pd.to_datetime(DJ['날짜'], format='%Y년 %m월')  #infer_datetime_format=True)\n",
        "DJ.set_index(\"날짜\")\n",
        "DJ.head()"
      ]
    },
    {
      "cell_type": "code",
      "execution_count": null,
      "id": "d445614e-f907-4e60-84c4-7450cebbef72",
      "metadata": {
        "id": "d445614e-f907-4e60-84c4-7450cebbef72"
      },
      "outputs": [],
      "source": [
        "file_list = os.listdir(\"./dataset/lec06_index_dataset/\")"
      ]
    },
    {
      "cell_type": "markdown",
      "id": "4b47893c-65d3-46fc-a11d-204bcbf72ce0",
      "metadata": {
        "id": "4b47893c-65d3-46fc-a11d-204bcbf72ce0"
      },
      "source": [
        "## 공통함수\n"
      ]
    },
    {
      "cell_type": "code",
      "execution_count": null,
      "id": "c6cd9a9d-60dc-40e1-a81e-f1c3ab2c8500",
      "metadata": {
        "id": "c6cd9a9d-60dc-40e1-a81e-f1c3ab2c8500",
        "outputId": "b1c2bf54-972d-446c-9827-06510e88bc12"
      },
      "outputs": [
        {
          "data": {
            "text/plain": [
              "['DJ.csv',\n",
              " 'EXUS.csv',\n",
              " 'GLD.csv',\n",
              " 'KOSPI.csv',\n",
              " 'NASDAQ.csv',\n",
              " 'S&P500.csv',\n",
              " 'SHY.csv',\n",
              " 'SHY2.xls',\n",
              " 'TLT.csv',\n",
              " 'TLT2.xls']"
            ]
          },
          "execution_count": 7,
          "metadata": {},
          "output_type": "execute_result"
        }
      ],
      "source": [
        "os.listdir(\"./dataset/lec06_index_dataset/\")"
      ]
    },
    {
      "cell_type": "code",
      "execution_count": null,
      "id": "3f605538-0d13-405d-ae20-6a9f77473ac8",
      "metadata": {
        "id": "3f605538-0d13-405d-ae20-6a9f77473ac8",
        "outputId": "97d74927-f3e3-4ea7-92ba-b52414f68d57"
      },
      "outputs": [
        {
          "name": "stdout",
          "output_type": "stream",
          "text": [
            "DJ\n",
            "                종가      오픈      고가      저가  거래량   변동률\n",
            "날짜                                                   \n",
            "1980-05-01  850.85  817.06  866.13  795.81  0.0  4.14\n",
            "1980-04-01  817.06  785.75  818.52  751.37  0.0  3.98\n",
            "1980-03-01  785.75  863.14  868.69  729.95  0.0 -8.97\n",
            "1980-02-01  863.14  875.84  918.17  847.27  0.0 -1.45\n",
            "1980-01-01  875.85  838.74  897.88  809.05  0.0  4.42\n",
            "EXUS\n",
            "                종가      오픈      고가      저가   변동률\n",
            "날짜                                              \n",
            "1981-09-01  681.25  681.25  681.25  681.25 -0.96\n",
            "1981-08-01  687.85  687.85  687.85  687.85  0.13\n",
            "1981-07-01  686.95  686.95  686.95  686.95  0.55\n",
            "1981-06-01  683.20  683.20  683.20  683.20 -0.18\n",
            "1981-05-01  684.40  684.40  684.40  684.40  0.81\n",
            "GLD\n",
            "               종가     오픈     고가     저가         거래량   변동률\n",
            "날짜                                                      \n",
            "2005-04-01  43.35  42.60  43.70  42.16  38430000.0  1.24\n",
            "2005-03-01  42.82  43.30  44.67  42.35  41040000.0 -1.61\n",
            "2005-02-01  43.52  42.09  43.74  41.02  40150000.0  3.08\n",
            "2005-01-01  42.22  42.98  43.17  41.70  35540000.0 -3.61\n",
            "2004-12-01  43.80  45.28  46.00  43.20  60800000.0 -2.93\n",
            "KOSPI\n",
            "               종가     오픈     고가     저가         거래량    변동률\n",
            "날짜                                                       \n",
            "1981-09-01  132.3  132.3  132.3  132.3  19310000.0  -5.57\n",
            "1981-08-01  140.1  140.1  140.1  140.1  20630000.0  -5.40\n",
            "1981-07-01  148.1  148.1  148.1  148.1  41030000.0  -1.79\n",
            "1981-06-01  150.8  150.8  150.8  150.8  57850000.0  19.40\n",
            "1981-05-01  126.3  126.3  126.3  126.3  34750000.0   3.19\n",
            "NASDAQ\n",
            "                종가      오픈      고가      저가  거래량   변동률\n",
            "날짜                                                   \n",
            "1986-02-01  140.43  140.43  141.83  132.93  0.0  5.64\n",
            "1986-01-01  132.93  132.93  134.13  128.06  0.0  0.48\n",
            "1985-12-01  132.29  132.29  133.12  124.72  0.0  4.94\n",
            "1985-11-01  126.06  126.06  126.44  115.48  0.0  9.16\n",
            "1985-10-01  115.48  115.48  116.12  106.77  0.0  4.39\n",
            "S&P500\n",
            "                종가      오픈      고가      저가  거래량    변동률\n",
            "날짜                                                    \n",
            "1980-05-01  111.24  106.29  112.72  103.50    0   4.66\n",
            "1980-04-01  106.29  102.09  106.79   98.95    0   4.11\n",
            "1980-03-01  102.09  113.66  114.34   94.23    0 -10.18\n",
            "1980-02-01  113.66  114.16  120.22  111.33    0  -0.44\n",
            "1980-01-01  114.16  107.94  117.17  103.26    0   5.76\n",
            "SHY\n",
            "               종가     오픈     고가     저가         거래량   변동률\n",
            "날짜                                                      \n",
            "2007-12-01  82.19  82.35  82.53  81.85  16930000.0 -0.38\n",
            "2007-11-01  82.50  81.09  83.15  81.09  18230000.0  1.41\n",
            "2007-10-01  81.35  81.02  81.59  80.72  25970000.0  0.11\n",
            "2007-09-01  81.26  80.99  81.44  79.87  12670000.0  0.01\n",
            "2007-08-01  81.25  80.26  81.25  80.12  25340000.0  0.83\n",
            "SHY2.xl\n",
            "TLT\n",
            "               종가     오픈     고가     저가         거래량   변동률\n",
            "날짜                                                      \n",
            "2005-10-01  89.78  91.79  92.20  89.12  21290000.0 -2.62\n",
            "2005-09-01  92.20  95.31  95.74  91.88  20880000.0 -3.95\n",
            "2005-08-01  95.99  92.50  96.00  91.28  23880000.0  3.09\n",
            "2005-07-01  93.11  96.04  96.26  92.68  25260000.0 -3.71\n",
            "2005-06-01  96.70  95.20  97.00  93.33  34730000.0  1.79\n",
            "TLT2.xl\n"
          ]
        }
      ],
      "source": [
        "def alphabet_handling(x):\n",
        "    res = 0\n",
        "    if 'B' in x:\n",
        "        res = float(x[:-1])*1000000000\n",
        "    elif 'K' in x:\n",
        "        res = float(x[:-1])*1000\n",
        "    elif 'M' in x:\n",
        "        res = float(x[:-1])*1000000\n",
        "    else:\n",
        "        res = 0 \n",
        "    return res\n",
        "\n",
        "file_list = os.listdir(\"./dataset/lec06_index_dataset/\")\n",
        "for file in file_list:\n",
        "    try :\n",
        "        fname = os.path.basename(file).rstrip('.csv')  #DJ.csv  --> DJ\n",
        "        print(fname)\n",
        "        # df = eval(fname)\n",
        "        df = pd.read_csv(f\"./dataset/lec06_index_dataset/{fname}.csv\", thousands=\",\")\n",
        "        \n",
        "        try :\n",
        "            df['거래량']=df['거래량'].apply(lambda x : alphabet_handling(x))\n",
        "        except :\n",
        "            pass\n",
        "        \n",
        "        df = df.rename({\"변동 %\":\"변동률\"}, axis=1)\n",
        "        df['변동률'] = df['변동률'].str.replace(\"%\",\"\").astype('float')\n",
        "\n",
        "        df['날짜'] = pd.to_datetime(df['날짜'], format='%Y년 %m월')  #infer_datetime_format=True)\n",
        "        df = df.set_index(\"날짜\")\n",
        "        globals()[file] = df    #globals()[키=파일이름]=값  DJ = df \n",
        "        print(df.tail())\n",
        "    except :\n",
        "        continue"
      ]
    },
    {
      "cell_type": "code",
      "execution_count": null,
      "id": "7ecbe47f-39a0-46e1-9825-3beda85c612b",
      "metadata": {
        "id": "7ecbe47f-39a0-46e1-9825-3beda85c612b"
      },
      "outputs": [],
      "source": [
        "# Namespace 변수, 값\n",
        "# globals()"
      ]
    },
    {
      "cell_type": "code",
      "execution_count": null,
      "id": "2b0304a2-49f5-48d8-abf0-b1ac903ba6b0",
      "metadata": {
        "id": "2b0304a2-49f5-48d8-abf0-b1ac903ba6b0"
      },
      "outputs": [],
      "source": [
        "from pandas_datareader import data as pdr\n",
        "import yfinance as yf\n",
        "yf.pdr_override()"
      ]
    },
    {
      "cell_type": "code",
      "execution_count": null,
      "id": "29afbc74-a08c-4135-a003-1cfe13c9bdd6",
      "metadata": {
        "id": "29afbc74-a08c-4135-a003-1cfe13c9bdd6",
        "outputId": "e93397f0-13a9-45e4-d012-6b13028c5d0c"
      },
      "outputs": [
        {
          "name": "stdout",
          "output_type": "stream",
          "text": [
            "[*********************100%***********************]  1 of 1 completed\n",
            "[*********************100%***********************]  1 of 1 completed\n",
            "[*********************100%***********************]  1 of 1 completed\n",
            "[*********************100%***********************]  1 of 1 completed\n",
            "[*********************100%***********************]  1 of 1 completed\n",
            "[*********************100%***********************]  1 of 1 completed\n",
            "[*********************100%***********************]  1 of 1 completed\n",
            "[*********************100%***********************]  1 of 1 completed\n"
          ]
        }
      ],
      "source": [
        "INDEX_NAME = [\"SPY\", \"^GSPC\", \"SHY\",\"^KS11\", \"TLT\", \"GLD\", \"DJI\",'USDKRW=X']   #미'USDKRW=X' 일'JPYKRW=X' 영'GBPKRW=X'\n",
        "# 통합된 날짜 사용할 경우 : 20070801\n",
        "SDATE = \"1980-01-01\"\n",
        "EDATE = \"2022-03-25\"\n",
        "\n",
        "dict={}\n",
        "for index in INDEX_NAME :\n",
        "    df = pdr.get_data_yahoo(index, start=SDATE)\n",
        "    dict[index] = df['Adj Close']"
      ]
    },
    {
      "cell_type": "code",
      "execution_count": null,
      "id": "59b05603-45e0-4a8d-bff6-e78c0a7f62c8",
      "metadata": {
        "id": "59b05603-45e0-4a8d-bff6-e78c0a7f62c8"
      },
      "outputs": [],
      "source": [
        "df = pd.DataFrame(dict)\n",
        "# df.columns =  [\"SPY\", \"GSPC\", \"SHY\",\"KS11\", \"TLT\", \"GLD\", \"DJI\",'USDKRW']\n",
        "df.columns =  [\"NASDAQ\", \"S&P500\", \"BOND-S\",\"KOSPI\", \"BOND-G\", \"GLD\", \"DJ\",'US-W']"
      ]
    },
    {
      "cell_type": "code",
      "execution_count": null,
      "id": "82cae0be-0556-44fd-a1d1-578c4065920f",
      "metadata": {
        "id": "82cae0be-0556-44fd-a1d1-578c4065920f",
        "outputId": "39ec447a-c9d2-4548-b863-4f41cfc0c2ab"
      },
      "outputs": [
        {
          "name": "stdout",
          "output_type": "stream",
          "text": [
            "<class 'pandas.core.frame.DataFrame'>\n",
            "DatetimeIndex: 3947 entries, 2004-11-18 to 2022-03-02\n",
            "Data columns (total 8 columns):\n",
            " #   Column  Non-Null Count  Dtype  \n",
            "---  ------  --------------  -----  \n",
            " 0   NASDAQ  3947 non-null   float64\n",
            " 1   S&P500  3947 non-null   float64\n",
            " 2   BOND-S  3947 non-null   float64\n",
            " 3   KOSPI   3947 non-null   float64\n",
            " 4   BOND-G  3947 non-null   float64\n",
            " 5   GLD     3947 non-null   float64\n",
            " 6   DJ      3947 non-null   float64\n",
            " 7   US-W    3947 non-null   float64\n",
            "dtypes: float64(8)\n",
            "memory usage: 277.5 KB\n",
            "None\n"
          ]
        },
        {
          "data": {
            "text/html": [
              "<div>\n",
              "<style scoped>\n",
              "    .dataframe tbody tr th:only-of-type {\n",
              "        vertical-align: middle;\n",
              "    }\n",
              "\n",
              "    .dataframe tbody tr th {\n",
              "        vertical-align: top;\n",
              "    }\n",
              "\n",
              "    .dataframe thead th {\n",
              "        text-align: right;\n",
              "    }\n",
              "</style>\n",
              "<table border=\"1\" class=\"dataframe\">\n",
              "  <thead>\n",
              "    <tr style=\"text-align: right;\">\n",
              "      <th></th>\n",
              "      <th>NASDAQ</th>\n",
              "      <th>S&amp;P500</th>\n",
              "      <th>BOND-S</th>\n",
              "      <th>KOSPI</th>\n",
              "      <th>BOND-G</th>\n",
              "      <th>GLD</th>\n",
              "      <th>DJ</th>\n",
              "      <th>US-W</th>\n",
              "    </tr>\n",
              "    <tr>\n",
              "      <th>Date</th>\n",
              "      <th></th>\n",
              "      <th></th>\n",
              "      <th></th>\n",
              "      <th></th>\n",
              "      <th></th>\n",
              "      <th></th>\n",
              "      <th></th>\n",
              "      <th></th>\n",
              "    </tr>\n",
              "  </thead>\n",
              "  <tbody>\n",
              "    <tr>\n",
              "      <th>2004-11-18</th>\n",
              "      <td>84.490067</td>\n",
              "      <td>1183.550049</td>\n",
              "      <td>61.854610</td>\n",
              "      <td>875.840027</td>\n",
              "      <td>51.479012</td>\n",
              "      <td>44.380001</td>\n",
              "      <td>10572.500000</td>\n",
              "      <td>1062.000000</td>\n",
              "    </tr>\n",
              "    <tr>\n",
              "      <th>2004-11-19</th>\n",
              "      <td>83.550781</td>\n",
              "      <td>1170.339966</td>\n",
              "      <td>61.756161</td>\n",
              "      <td>867.030029</td>\n",
              "      <td>51.068157</td>\n",
              "      <td>44.779999</td>\n",
              "      <td>10456.900391</td>\n",
              "      <td>1054.000000</td>\n",
              "    </tr>\n",
              "    <tr>\n",
              "      <th>2004-11-22</th>\n",
              "      <td>83.949272</td>\n",
              "      <td>1177.239990</td>\n",
              "      <td>61.771271</td>\n",
              "      <td>849.989990</td>\n",
              "      <td>51.334377</td>\n",
              "      <td>44.950001</td>\n",
              "      <td>10489.400391</td>\n",
              "      <td>1026.699951</td>\n",
              "    </tr>\n",
              "    <tr>\n",
              "      <th>2004-11-23</th>\n",
              "      <td>84.077354</td>\n",
              "      <td>1176.939941</td>\n",
              "      <td>61.763733</td>\n",
              "      <td>860.400024</td>\n",
              "      <td>51.397995</td>\n",
              "      <td>44.750000</td>\n",
              "      <td>10492.599609</td>\n",
              "      <td>1055.000000</td>\n",
              "    </tr>\n",
              "    <tr>\n",
              "      <th>2004-11-24</th>\n",
              "      <td>84.276596</td>\n",
              "      <td>1181.760010</td>\n",
              "      <td>61.756161</td>\n",
              "      <td>872.559998</td>\n",
              "      <td>51.397995</td>\n",
              "      <td>45.049999</td>\n",
              "      <td>10520.299805</td>\n",
              "      <td>1066.500000</td>\n",
              "    </tr>\n",
              "  </tbody>\n",
              "</table>\n",
              "</div>"
            ],
            "text/plain": [
              "               NASDAQ       S&P500     BOND-S       KOSPI     BOND-G  \\\n",
              "Date                                                                   \n",
              "2004-11-18  84.490067  1183.550049  61.854610  875.840027  51.479012   \n",
              "2004-11-19  83.550781  1170.339966  61.756161  867.030029  51.068157   \n",
              "2004-11-22  83.949272  1177.239990  61.771271  849.989990  51.334377   \n",
              "2004-11-23  84.077354  1176.939941  61.763733  860.400024  51.397995   \n",
              "2004-11-24  84.276596  1181.760010  61.756161  872.559998  51.397995   \n",
              "\n",
              "                  GLD            DJ         US-W  \n",
              "Date                                              \n",
              "2004-11-18  44.380001  10572.500000  1062.000000  \n",
              "2004-11-19  44.779999  10456.900391  1054.000000  \n",
              "2004-11-22  44.950001  10489.400391  1026.699951  \n",
              "2004-11-23  44.750000  10492.599609  1055.000000  \n",
              "2004-11-24  45.049999  10520.299805  1066.500000  "
            ]
          },
          "execution_count": 13,
          "metadata": {},
          "output_type": "execute_result"
        }
      ],
      "source": [
        "#df = df.fillna(0)\n",
        "df = df.dropna(axis=0)\n",
        "print(df.info())\n",
        "df.head()"
      ]
    },
    {
      "cell_type": "code",
      "execution_count": null,
      "id": "ef3f8ae3-e472-426e-9e25-c52bf2f76a8b",
      "metadata": {
        "id": "ef3f8ae3-e472-426e-9e25-c52bf2f76a8b",
        "outputId": "3c9fa3c0-f5f4-49e0-d6f8-3b3fc7428c4f"
      },
      "outputs": [
        {
          "data": {
            "text/plain": [
              "(Timestamp('2004-11-18 00:00:00'), Timestamp('2022-03-02 00:00:00'))"
            ]
          },
          "execution_count": 14,
          "metadata": {},
          "output_type": "execute_result"
        }
      ],
      "source": [
        "df.index.min() , df.index.max()"
      ]
    },
    {
      "cell_type": "code",
      "execution_count": null,
      "id": "57187f2a-ac94-413d-9f75-1c99acfbfdf9",
      "metadata": {
        "id": "57187f2a-ac94-413d-9f75-1c99acfbfdf9",
        "outputId": "568de76f-cad0-49e7-a232-54d21942ea92"
      },
      "outputs": [
        {
          "data": {
            "text/html": [
              "<div>\n",
              "<style scoped>\n",
              "    .dataframe tbody tr th:only-of-type {\n",
              "        vertical-align: middle;\n",
              "    }\n",
              "\n",
              "    .dataframe tbody tr th {\n",
              "        vertical-align: top;\n",
              "    }\n",
              "\n",
              "    .dataframe thead th {\n",
              "        text-align: right;\n",
              "    }\n",
              "</style>\n",
              "<table border=\"1\" class=\"dataframe\">\n",
              "  <thead>\n",
              "    <tr style=\"text-align: right;\">\n",
              "      <th></th>\n",
              "      <th>NASDAQ</th>\n",
              "      <th>S&amp;P500</th>\n",
              "      <th>BOND-S</th>\n",
              "      <th>KOSPI</th>\n",
              "      <th>BOND-G</th>\n",
              "      <th>GLD</th>\n",
              "      <th>DJ</th>\n",
              "      <th>US-W</th>\n",
              "    </tr>\n",
              "  </thead>\n",
              "  <tbody>\n",
              "    <tr>\n",
              "      <th>count</th>\n",
              "      <td>3947.000000</td>\n",
              "      <td>3947.000000</td>\n",
              "      <td>3947.000000</td>\n",
              "      <td>3947.000000</td>\n",
              "      <td>3947.000000</td>\n",
              "      <td>3947.000000</td>\n",
              "      <td>3947.000000</td>\n",
              "      <td>3947.000000</td>\n",
              "    </tr>\n",
              "    <tr>\n",
              "      <th>mean</th>\n",
              "      <td>169.524558</td>\n",
              "      <td>1925.851205</td>\n",
              "      <td>76.148224</td>\n",
              "      <td>1918.256827</td>\n",
              "      <td>93.073283</td>\n",
              "      <td>115.850613</td>\n",
              "      <td>16865.478364</td>\n",
              "      <td>1103.848892</td>\n",
              "    </tr>\n",
              "    <tr>\n",
              "      <th>std</th>\n",
              "      <td>96.834842</td>\n",
              "      <td>901.609561</td>\n",
              "      <td>6.667045</td>\n",
              "      <td>485.633662</td>\n",
              "      <td>30.117076</td>\n",
              "      <td>37.283569</td>\n",
              "      <td>7087.090484</td>\n",
              "      <td>99.567581</td>\n",
              "    </tr>\n",
              "    <tr>\n",
              "      <th>min</th>\n",
              "      <td>52.636520</td>\n",
              "      <td>676.530029</td>\n",
              "      <td>61.552372</td>\n",
              "      <td>844.200012</td>\n",
              "      <td>50.022625</td>\n",
              "      <td>41.270000</td>\n",
              "      <td>6547.049805</td>\n",
              "      <td>886.679993</td>\n",
              "    </tr>\n",
              "    <tr>\n",
              "      <th>25%</th>\n",
              "      <td>95.869263</td>\n",
              "      <td>1265.799988</td>\n",
              "      <td>74.340652</td>\n",
              "      <td>1647.359985</td>\n",
              "      <td>65.837669</td>\n",
              "      <td>91.130001</td>\n",
              "      <td>11333.200195</td>\n",
              "      <td>1050.350037</td>\n",
              "    </tr>\n",
              "    <tr>\n",
              "      <th>50%</th>\n",
              "      <td>129.995773</td>\n",
              "      <td>1552.099976</td>\n",
              "      <td>77.968742</td>\n",
              "      <td>1957.260010</td>\n",
              "      <td>93.379005</td>\n",
              "      <td>119.230003</td>\n",
              "      <td>14296.200195</td>\n",
              "      <td>1116.500000</td>\n",
              "    </tr>\n",
              "    <tr>\n",
              "      <th>75%</th>\n",
              "      <td>217.092560</td>\n",
              "      <td>2373.469971</td>\n",
              "      <td>79.644852</td>\n",
              "      <td>2097.020020</td>\n",
              "      <td>112.549278</td>\n",
              "      <td>140.224998</td>\n",
              "      <td>20846.549805</td>\n",
              "      <td>1156.084961</td>\n",
              "    </tr>\n",
              "    <tr>\n",
              "      <th>max</th>\n",
              "      <td>476.071014</td>\n",
              "      <td>4793.540039</td>\n",
              "      <td>86.157677</td>\n",
              "      <td>3305.209961</td>\n",
              "      <td>167.615021</td>\n",
              "      <td>193.889999</td>\n",
              "      <td>36799.699219</td>\n",
              "      <td>1571.400024</td>\n",
              "    </tr>\n",
              "  </tbody>\n",
              "</table>\n",
              "</div>"
            ],
            "text/plain": [
              "            NASDAQ       S&P500       BOND-S        KOSPI       BOND-G  \\\n",
              "count  3947.000000  3947.000000  3947.000000  3947.000000  3947.000000   \n",
              "mean    169.524558  1925.851205    76.148224  1918.256827    93.073283   \n",
              "std      96.834842   901.609561     6.667045   485.633662    30.117076   \n",
              "min      52.636520   676.530029    61.552372   844.200012    50.022625   \n",
              "25%      95.869263  1265.799988    74.340652  1647.359985    65.837669   \n",
              "50%     129.995773  1552.099976    77.968742  1957.260010    93.379005   \n",
              "75%     217.092560  2373.469971    79.644852  2097.020020   112.549278   \n",
              "max     476.071014  4793.540039    86.157677  3305.209961   167.615021   \n",
              "\n",
              "               GLD            DJ         US-W  \n",
              "count  3947.000000   3947.000000  3947.000000  \n",
              "mean    115.850613  16865.478364  1103.848892  \n",
              "std      37.283569   7087.090484    99.567581  \n",
              "min      41.270000   6547.049805   886.679993  \n",
              "25%      91.130001  11333.200195  1050.350037  \n",
              "50%     119.230003  14296.200195  1116.500000  \n",
              "75%     140.224998  20846.549805  1156.084961  \n",
              "max     193.889999  36799.699219  1571.400024  "
            ]
          },
          "execution_count": 15,
          "metadata": {},
          "output_type": "execute_result"
        }
      ],
      "source": [
        "df.describe()"
      ]
    },
    {
      "cell_type": "markdown",
      "id": "ae510b60-365f-4c73-bf02-bfc6bbc5c767",
      "metadata": {
        "tags": [],
        "id": "ae510b60-365f-4c73-bf02-bfc6bbc5c767"
      },
      "source": [
        "# 자산별 상관 관계\n",
        "* 월 종가 기준 자산 별 상관관계\n",
        "* corr = 1 : 양의 상관관계\n",
        "* corr = -1 : 음의 상관관계\n",
        "* corr = 0 : 관계없다"
      ]
    },
    {
      "cell_type": "markdown",
      "id": "f761a08e-a0d4-4f31-a99e-712dba39ea30",
      "metadata": {
        "tags": [],
        "id": "f761a08e-a0d4-4f31-a99e-712dba39ea30"
      },
      "source": [
        "## 지수화\n",
        "* pct_change(N)\n",
        "* <font color=red><b> N일 대비 수익률 비교에 주로 사용"
      ]
    },
    {
      "cell_type": "code",
      "execution_count": null,
      "id": "e576b9ef-bbc9-439b-ab6c-445d5a59d09b",
      "metadata": {
        "id": "e576b9ef-bbc9-439b-ab6c-445d5a59d09b",
        "outputId": "263a20e2-9fda-4196-94c5-ea2aa3292aaa"
      },
      "outputs": [
        {
          "data": {
            "text/html": [
              "<div>\n",
              "<style scoped>\n",
              "    .dataframe tbody tr th:only-of-type {\n",
              "        vertical-align: middle;\n",
              "    }\n",
              "\n",
              "    .dataframe tbody tr th {\n",
              "        vertical-align: top;\n",
              "    }\n",
              "\n",
              "    .dataframe thead th {\n",
              "        text-align: right;\n",
              "    }\n",
              "</style>\n",
              "<table border=\"1\" class=\"dataframe\">\n",
              "  <thead>\n",
              "    <tr style=\"text-align: right;\">\n",
              "      <th></th>\n",
              "      <th>NASDAQ</th>\n",
              "      <th>S&amp;P500</th>\n",
              "      <th>BOND-S</th>\n",
              "      <th>KOSPI</th>\n",
              "      <th>BOND-G</th>\n",
              "      <th>GLD</th>\n",
              "      <th>DJ</th>\n",
              "      <th>US-W</th>\n",
              "    </tr>\n",
              "    <tr>\n",
              "      <th>Date</th>\n",
              "      <th></th>\n",
              "      <th></th>\n",
              "      <th></th>\n",
              "      <th></th>\n",
              "      <th></th>\n",
              "      <th></th>\n",
              "      <th></th>\n",
              "      <th></th>\n",
              "    </tr>\n",
              "  </thead>\n",
              "  <tbody>\n",
              "    <tr>\n",
              "      <th>2004-11-18</th>\n",
              "      <td>84.490067</td>\n",
              "      <td>1183.550049</td>\n",
              "      <td>61.854610</td>\n",
              "      <td>875.840027</td>\n",
              "      <td>51.479012</td>\n",
              "      <td>44.380001</td>\n",
              "      <td>10572.500000</td>\n",
              "      <td>1062.000000</td>\n",
              "    </tr>\n",
              "    <tr>\n",
              "      <th>2004-11-19</th>\n",
              "      <td>83.550781</td>\n",
              "      <td>1170.339966</td>\n",
              "      <td>61.756161</td>\n",
              "      <td>867.030029</td>\n",
              "      <td>51.068157</td>\n",
              "      <td>44.779999</td>\n",
              "      <td>10456.900391</td>\n",
              "      <td>1054.000000</td>\n",
              "    </tr>\n",
              "    <tr>\n",
              "      <th>2004-11-22</th>\n",
              "      <td>83.949272</td>\n",
              "      <td>1177.239990</td>\n",
              "      <td>61.771271</td>\n",
              "      <td>849.989990</td>\n",
              "      <td>51.334377</td>\n",
              "      <td>44.950001</td>\n",
              "      <td>10489.400391</td>\n",
              "      <td>1026.699951</td>\n",
              "    </tr>\n",
              "    <tr>\n",
              "      <th>2004-11-23</th>\n",
              "      <td>84.077354</td>\n",
              "      <td>1176.939941</td>\n",
              "      <td>61.763733</td>\n",
              "      <td>860.400024</td>\n",
              "      <td>51.397995</td>\n",
              "      <td>44.750000</td>\n",
              "      <td>10492.599609</td>\n",
              "      <td>1055.000000</td>\n",
              "    </tr>\n",
              "    <tr>\n",
              "      <th>2004-11-24</th>\n",
              "      <td>84.276596</td>\n",
              "      <td>1181.760010</td>\n",
              "      <td>61.756161</td>\n",
              "      <td>872.559998</td>\n",
              "      <td>51.397995</td>\n",
              "      <td>45.049999</td>\n",
              "      <td>10520.299805</td>\n",
              "      <td>1066.500000</td>\n",
              "    </tr>\n",
              "  </tbody>\n",
              "</table>\n",
              "</div>"
            ],
            "text/plain": [
              "               NASDAQ       S&P500     BOND-S       KOSPI     BOND-G  \\\n",
              "Date                                                                   \n",
              "2004-11-18  84.490067  1183.550049  61.854610  875.840027  51.479012   \n",
              "2004-11-19  83.550781  1170.339966  61.756161  867.030029  51.068157   \n",
              "2004-11-22  83.949272  1177.239990  61.771271  849.989990  51.334377   \n",
              "2004-11-23  84.077354  1176.939941  61.763733  860.400024  51.397995   \n",
              "2004-11-24  84.276596  1181.760010  61.756161  872.559998  51.397995   \n",
              "\n",
              "                  GLD            DJ         US-W  \n",
              "Date                                              \n",
              "2004-11-18  44.380001  10572.500000  1062.000000  \n",
              "2004-11-19  44.779999  10456.900391  1054.000000  \n",
              "2004-11-22  44.950001  10489.400391  1026.699951  \n",
              "2004-11-23  44.750000  10492.599609  1055.000000  \n",
              "2004-11-24  45.049999  10520.299805  1066.500000  "
            ]
          },
          "execution_count": 16,
          "metadata": {},
          "output_type": "execute_result"
        }
      ],
      "source": [
        "df.head()"
      ]
    },
    {
      "cell_type": "code",
      "execution_count": null,
      "id": "b27a7bda-e43d-44b8-87d3-bd291e6f2b19",
      "metadata": {
        "id": "b27a7bda-e43d-44b8-87d3-bd291e6f2b19",
        "outputId": "b76fe753-d434-4e5b-995b-2503a8f16d09"
      },
      "outputs": [
        {
          "data": {
            "text/html": [
              "<div>\n",
              "<style scoped>\n",
              "    .dataframe tbody tr th:only-of-type {\n",
              "        vertical-align: middle;\n",
              "    }\n",
              "\n",
              "    .dataframe tbody tr th {\n",
              "        vertical-align: top;\n",
              "    }\n",
              "\n",
              "    .dataframe thead th {\n",
              "        text-align: right;\n",
              "    }\n",
              "</style>\n",
              "<table border=\"1\" class=\"dataframe\">\n",
              "  <thead>\n",
              "    <tr style=\"text-align: right;\">\n",
              "      <th></th>\n",
              "      <th>NASDAQ</th>\n",
              "      <th>S&amp;P500</th>\n",
              "      <th>BOND-S</th>\n",
              "      <th>KOSPI</th>\n",
              "      <th>BOND-G</th>\n",
              "      <th>GLD</th>\n",
              "      <th>DJ</th>\n",
              "      <th>US-W</th>\n",
              "    </tr>\n",
              "    <tr>\n",
              "      <th>Date</th>\n",
              "      <th></th>\n",
              "      <th></th>\n",
              "      <th></th>\n",
              "      <th></th>\n",
              "      <th></th>\n",
              "      <th></th>\n",
              "      <th></th>\n",
              "      <th></th>\n",
              "    </tr>\n",
              "  </thead>\n",
              "  <tbody>\n",
              "    <tr>\n",
              "      <th>2004-11-19</th>\n",
              "      <td>-0.011117</td>\n",
              "      <td>-0.011161</td>\n",
              "      <td>-0.001592</td>\n",
              "      <td>-0.010059</td>\n",
              "      <td>-0.007981</td>\n",
              "      <td>0.009013</td>\n",
              "      <td>-0.010934</td>\n",
              "      <td>-0.007533</td>\n",
              "    </tr>\n",
              "    <tr>\n",
              "      <th>2004-11-22</th>\n",
              "      <td>0.004769</td>\n",
              "      <td>0.005896</td>\n",
              "      <td>0.000245</td>\n",
              "      <td>-0.019653</td>\n",
              "      <td>0.005213</td>\n",
              "      <td>0.003796</td>\n",
              "      <td>0.003108</td>\n",
              "      <td>-0.025901</td>\n",
              "    </tr>\n",
              "    <tr>\n",
              "      <th>2004-11-23</th>\n",
              "      <td>0.001526</td>\n",
              "      <td>-0.000255</td>\n",
              "      <td>-0.000122</td>\n",
              "      <td>0.012247</td>\n",
              "      <td>0.001239</td>\n",
              "      <td>-0.004449</td>\n",
              "      <td>0.000305</td>\n",
              "      <td>0.027564</td>\n",
              "    </tr>\n",
              "    <tr>\n",
              "      <th>2004-11-24</th>\n",
              "      <td>0.002370</td>\n",
              "      <td>0.004095</td>\n",
              "      <td>-0.000123</td>\n",
              "      <td>0.014133</td>\n",
              "      <td>0.000000</td>\n",
              "      <td>0.006704</td>\n",
              "      <td>0.002640</td>\n",
              "      <td>0.010900</td>\n",
              "    </tr>\n",
              "    <tr>\n",
              "      <th>2004-11-26</th>\n",
              "      <td>-0.000760</td>\n",
              "      <td>0.000753</td>\n",
              "      <td>-0.000980</td>\n",
              "      <td>-0.016549</td>\n",
              "      <td>-0.006530</td>\n",
              "      <td>0.005327</td>\n",
              "      <td>0.000181</td>\n",
              "      <td>-0.018097</td>\n",
              "    </tr>\n",
              "  </tbody>\n",
              "</table>\n",
              "</div>"
            ],
            "text/plain": [
              "              NASDAQ    S&P500    BOND-S     KOSPI    BOND-G       GLD  \\\n",
              "Date                                                                     \n",
              "2004-11-19 -0.011117 -0.011161 -0.001592 -0.010059 -0.007981  0.009013   \n",
              "2004-11-22  0.004769  0.005896  0.000245 -0.019653  0.005213  0.003796   \n",
              "2004-11-23  0.001526 -0.000255 -0.000122  0.012247  0.001239 -0.004449   \n",
              "2004-11-24  0.002370  0.004095 -0.000123  0.014133  0.000000  0.006704   \n",
              "2004-11-26 -0.000760  0.000753 -0.000980 -0.016549 -0.006530  0.005327   \n",
              "\n",
              "                  DJ      US-W  \n",
              "Date                            \n",
              "2004-11-19 -0.010934 -0.007533  \n",
              "2004-11-22  0.003108 -0.025901  \n",
              "2004-11-23  0.000305  0.027564  \n",
              "2004-11-24  0.002640  0.010900  \n",
              "2004-11-26  0.000181 -0.018097  "
            ]
          },
          "execution_count": 17,
          "metadata": {},
          "output_type": "execute_result"
        }
      ],
      "source": [
        "df_chg = df.pct_change()\n",
        "df_chg = df_chg.dropna(axis=0)\n",
        "df_chg.head()"
      ]
    },
    {
      "cell_type": "markdown",
      "id": "f0483189-7623-4b45-bcfe-6d2777a7b944",
      "metadata": {
        "id": "f0483189-7623-4b45-bcfe-6d2777a7b944"
      },
      "source": [
        "## heatmap"
      ]
    },
    {
      "cell_type": "code",
      "execution_count": null,
      "id": "7958a3e6-ce12-42b2-a9a3-788d612bb69c",
      "metadata": {
        "id": "7958a3e6-ce12-42b2-a9a3-788d612bb69c",
        "outputId": "b6b36c51-9e7b-4362-927d-97b9df24f110"
      },
      "outputs": [
        {
          "data": {
            "image/png": "[encoded data removed]",
            "text/plain": [
              "<Figure size 576x360 with 2 Axes>"
            ]
          },
          "metadata": {},
          "output_type": "display_data"
        }
      ],
      "source": [
        "plt.figure(figsize=(8,5))\n",
        "sns.heatmap(df_chg.corr(), fmt=\".2f\", cmap=\"Blues\", annot=True)\n",
        "plt.show()"
      ]
    },
    {
      "cell_type": "markdown",
      "id": "5751be8b-a6da-4a37-8209-4c3340e9ed5f",
      "metadata": {
        "id": "5751be8b-a6da-4a37-8209-4c3340e9ed5f"
      },
      "source": [
        "* 환율이 오르면 국내 주가는 하락한다 (원화가치하락, 투자가치가 떨어지기 때문에 외국투자자가 빠져나간다)\n",
        "* [추천] 환과 관련된 레버리지 상품은 음의 상관관계가 있다. \n",
        "* [추천] KOSPI와 BOND-S/G는 약한 음의 상관관계가 있다.    \n",
        "* [비추] KOSPI와 같은 주가상품(NASDAQ, DJ, S&P)\n",
        "\n",
        "<font color=red> 원화 달러를 함께 운용하는게 유리\n"
      ]
    },
    {
      "cell_type": "markdown",
      "id": "2d559536-b473-4efc-9e71-06acca5337ad",
      "metadata": {
        "id": "2d559536-b473-4efc-9e71-06acca5337ad"
      },
      "source": [
        "* ref : https://www.portfoliovisualizer.com/asset-correlations"
      ]
    },
    {
      "cell_type": "markdown",
      "id": "b5039df4-71c1-420d-ab78-1b9179d3c30a",
      "metadata": {
        "id": "b5039df4-71c1-420d-ab78-1b9179d3c30a"
      },
      "source": [
        "# 금융 시장 현황에 따른 자산별 상관관계"
      ]
    },
    {
      "cell_type": "markdown",
      "id": "e7e2f2b4-6d93-41a7-b14e-75ccf6844cdb",
      "metadata": {
        "id": "e7e2f2b4-6d93-41a7-b14e-75ccf6844cdb"
      },
      "source": [
        "* 좋다 \n",
        "* 횡보\n",
        "* 나쁘다 : 경제위기"
      ]
    },
    {
      "cell_type": "code",
      "execution_count": null,
      "id": "0b74ce14-c153-4e2b-b5b1-114b3f948b26",
      "metadata": {
        "id": "0b74ce14-c153-4e2b-b5b1-114b3f948b26",
        "outputId": "7a64de6c-1879-48ec-9e57-bd49e8b123e3"
      },
      "outputs": [
        {
          "data": {
            "text/plain": [
              "Index(['NASDAQ', 'S&P500', 'BOND-S', 'KOSPI', 'BOND-G', 'GLD', 'DJ', 'US-W'], dtype='object')"
            ]
          },
          "execution_count": 23,
          "metadata": {},
          "output_type": "execute_result"
        }
      ],
      "source": [
        "df.columns"
      ]
    },
    {
      "cell_type": "code",
      "execution_count": null,
      "id": "73f1d76a-a778-4197-963e-0b60e0bd3a13",
      "metadata": {
        "id": "73f1d76a-a778-4197-963e-0b60e0bd3a13",
        "outputId": "18f53d29-8ab9-4653-ec84-6aade5a03d9f"
      },
      "outputs": [
        {
          "data": {
            "text/plain": [
              "<AxesSubplot:xlabel='Date'>"
            ]
          },
          "execution_count": 22,
          "metadata": {},
          "output_type": "execute_result"
        },
        {
          "data": {
            "image/png": "[encoded data removed]",
            "text/plain": [
              "<Figure size 1152x288 with 1 Axes>"
            ]
          },
          "metadata": {},
          "output_type": "display_data"
        }
      ],
      "source": [
        "df.plot(figsize=(16,4))"
      ]
    },
    {
      "cell_type": "code",
      "execution_count": null,
      "id": "74c1120f-5dbe-417a-ab49-51a726b87cb3",
      "metadata": {
        "id": "74c1120f-5dbe-417a-ab49-51a726b87cb3",
        "outputId": "3401ad3a-ae81-46ce-b991-bb2e2b0482de"
      },
      "outputs": [
        {
          "data": {
            "text/plain": [
              "<AxesSubplot:xlabel='Date'>"
            ]
          },
          "execution_count": 25,
          "metadata": {},
          "output_type": "execute_result"
        },
        {
          "data": {
            "image/png": "[encoded data removed]",
            "text/plain": [
              "<Figure size 1152x288 with 1 Axes>"
            ]
          },
          "metadata": {},
          "output_type": "display_data"
        }
      ],
      "source": [
        "df[['NASDAQ', 'S&P500', 'BOND-S', 'KOSPI', 'BOND-G', 'GLD', 'US-W']].plot(figsize=(16,4))"
      ]
    },
    {
      "cell_type": "code",
      "execution_count": null,
      "id": "5a34e83a-efbc-43a2-b8c0-227d148d2206",
      "metadata": {
        "id": "5a34e83a-efbc-43a2-b8c0-227d148d2206",
        "outputId": "b6544e0c-7187-47cb-cf92-e9f823b96a39"
      },
      "outputs": [
        {
          "data": {
            "text/plain": [
              "<AxesSubplot:xlabel='Date'>"
            ]
          },
          "execution_count": 21,
          "metadata": {},
          "output_type": "execute_result"
        },
        {
          "data": {
            "image/png": "[encoded data removed]",
            "text/plain": [
              "<Figure size 1152x288 with 1 Axes>"
            ]
          },
          "metadata": {},
          "output_type": "display_data"
        }
      ],
      "source": [
        "df['KOSPI'].plot(figsize=(16,4))"
      ]
    },
    {
      "cell_type": "markdown",
      "id": "246ac1a6-5af1-4b52-bec2-c4083dc6b4c1",
      "metadata": {
        "id": "246ac1a6-5af1-4b52-bec2-c4083dc6b4c1"
      },
      "source": [
        "<pre>\n",
        "나쁘다 : 2020~ : 코로나\n",
        "        2008~2010 : 리먼브라더스파산(서브프라임 MBS모지기채권) - 금융대란 ==> 빅쇼트\n",
        "        1998 : IMF\n",
        "    주가하락,  시작통화량급격히증가, 금리인상, 채권가격하락, 개인(매수세)/외인(매도세)\n",
        "--> 물가인상  : 이자부담, 부동산(매도),  부동산가격(폭락):대출금을못갚을수도있다 -- 대출상환불가 - 은행도산\n",
        "--> 조기 금리인상 통화정책, 외환보유고 비축금액 줄어든다\n",
        "횡보 : 2012~2017\n"
      ]
    },
    {
      "cell_type": "code",
      "execution_count": null,
      "id": "b129f706-93be-483a-8067-c4bf3452f8a2",
      "metadata": {
        "id": "b129f706-93be-483a-8067-c4bf3452f8a2"
      },
      "outputs": [],
      "source": [
        ""
      ]
    },
    {
      "cell_type": "code",
      "execution_count": null,
      "id": "bbad4c28-9274-4eac-9472-b746e32ca8a7",
      "metadata": {
        "id": "bbad4c28-9274-4eac-9472-b746e32ca8a7"
      },
      "outputs": [],
      "source": [
        ""
      ]
    },
    {
      "cell_type": "code",
      "execution_count": null,
      "id": "f133e4b9-211c-48ec-9926-2075622afc88",
      "metadata": {
        "id": "f133e4b9-211c-48ec-9926-2075622afc88"
      },
      "outputs": [],
      "source": [
        ""
      ]
    }
  ],
  "metadata": {
    "kernelspec": {
      "display_name": "Python 3 (ipykernel)",
      "language": "python",
      "name": "python3"
    },
    "language_info": {
      "codemirror_mode": {
        "name": "ipython",
        "version": 3
      },
      "file_extension": ".py",
      "mimetype": "text/x-python",
      "name": "python",
      "nbconvert_exporter": "python",
      "pygments_lexer": "ipython3",
      "version": "3.8.8"
    },
    "colab": {
      "name": "lec06_hedge.ipynb",
      "provenance": [],
      "include_colab_link": true
    }
  },
  "nbformat": 4,
  "nbformat_minor": 5
}