{
  "cells": [
    {
      "cell_type": "markdown",
      "metadata": {
        "id": "view-in-github",
        "colab_type": "text"
      },
      "source": [
        "<a href=\"https://colab.research.google.com/github/gjrkdgh0772/Finance/blob/main/%ED%8E%80%EB%93%9C_%EC%9A%B4%EC%9A%A9_%EB%AA%A8%EB%8D%B8.ipynb\" target=\"_parent\"><img src=\"https://colab.research.google.com/assets/colab-badge.svg\" alt=\"Open In Colab\"/></a>"
      ]
    },
    {
      "cell_type": "code",
      "execution_count": null,
      "metadata": {
        "colab": {
          "base_uri": "https://localhost:8080/"
        },
        "id": "Snxp4kB6RObg",
        "outputId": "b098a4ae-0840-4472-c42f-0bc7a86d92ad"
      },
      "outputs": [
        {
          "output_type": "stream",
          "name": "stdout",
          "text": [
            "Mounted at /content/drive\n"
          ]
        }
      ],
      "source": [
        "from google.colab import drive\n",
        "drive.mount('/content/drive')"
      ]
    },
    {
      "cell_type": "code",
      "execution_count": null,
      "metadata": {
        "id": "s7p82Ltne8u_"
      },
      "outputs": [],
      "source": [
        "import datetime as dt\n",
        "from urllib.request import urlopen  \n",
        "import bs4\n",
        "import re\n",
        "import pandas as pd"
      ]
    },
    {
      "cell_type": "code",
      "execution_count": null,
      "metadata": {
        "id": "x4Zea0PSe8vF"
      },
      "outputs": [],
      "source": [
        "'''\n",
        "한국거래소 시가총액 상위 10종목 (2019년1월 기준)\n",
        "005930\t삼성전자\n",
        "000660\tSK하이닉스\n",
        "068270\t셀트리온\n",
        "005380\t현대차\n",
        "207940\t삼성바이오로직스\n",
        "051910\tLG화학\n",
        "005490\tPOSCO\n",
        "035420\tNAVER\n",
        "017670\tSK텔레콤\n",
        "015760\t한국전력\n",
        "'''\n",
        "k10_component = ['005930', '000660', '068270', '005380', '207940',\\\n",
        "                 '051910', '005490', '035420', '017670', '015760']"
      ]
    },
    {
      "cell_type": "code",
      "execution_count": null,
      "metadata": {
        "id": "Atd3d_Xie8vG"
      },
      "outputs": [],
      "source": [
        "# 구성종목 기본정보\n",
        "def stock_info(stock_cd):\n",
        "    url_float = 'http://companyinfo.stock.naver.com/v1/company/c1010001.aspx?cmp_cd=' + stock_cd\n",
        "    source = urlopen(url_float).read()\n",
        "    soup = bs4.BeautifulSoup(source, 'lxml')\n",
        "    \n",
        "    tmp = soup.find(id='cTB11').find_all('tr')[6].td.text\n",
        "    tmp = tmp.replace('\\r', '')\n",
        "    tmp = tmp.replace('\\n', '')\n",
        "    tmp = tmp.replace('\\t', '')\n",
        "    \n",
        "    tmp = re.split('/', tmp)\n",
        "\n",
        "    outstanding = tmp[0].replace(',', '')\n",
        "    outstanding = outstanding.replace('주', '')\n",
        "    outstanding = outstanding.replace(' ', '')\n",
        "    outstanding = int(outstanding)\n",
        "\n",
        "    floating = tmp[1].replace(' ', '')\n",
        "    floating = floating.replace('%', '')\n",
        "    floating = float(floating)\n",
        "    \n",
        "    name = soup.find(id='pArea').find('div').find('div').find('tr').find('td').find('span').text\n",
        "    \n",
        "    k10_outstanding[stock_cd] = outstanding\n",
        "    k10_floating[stock_cd] = floating\n",
        "    k10_name[stock_cd] = name"
      ]
    },
    {
      "cell_type": "code",
      "execution_count": null,
      "metadata": {
        "id": "uZ60_A9Xe8vI"
      },
      "outputs": [],
      "source": [
        "k10_outstanding = dict()\n",
        "k10_floating = dict()\n",
        "k10_name = dict()\n",
        "\n",
        "for stock_cd in k10_component:\n",
        "    stock_info(stock_cd)"
      ]
    },
    {
      "cell_type": "code",
      "execution_count": null,
      "metadata": {
        "colab": {
          "base_uri": "https://localhost:8080/",
          "height": 363
        },
        "id": "tH_RILCPe8vJ",
        "outputId": "3c9f0b69-2463-4e94-b409-e1e65f33096d"
      },
      "outputs": [
        {
          "output_type": "execute_result",
          "data": {
            "text/plain": [
              "        Outstanding  Floating      Name\n",
              "005930   5969782550     75.12      삼성전자\n",
              "000660    728002365     74.29    SK하이닉스\n",
              "068270    140688010     75.39      셀트리온\n",
              "005380    213668187     63.58       현대차\n",
              "207940     66165000     30.09  삼성바이오로직스\n",
              "051910     70592343     66.13      LG화학\n",
              "005490     87186835     68.17  POSCO홀딩스\n",
              "035420    164049085     81.81     NAVER\n",
              "017670    218833144     63.10     SK텔레콤\n",
              "015760    641964077     46.52      한국전력"
            ],
            "text/html": [
              "\n",
              "  <div id=\"df-c34aca53-1d6c-4161-a938-d7331002bfa5\">\n",
              "    <div class=\"colab-df-container\">\n",
              "      <div>\n",
              "<style scoped>\n",
              "    .dataframe tbody tr th:only-of-type {\n",
              "        vertical-align: middle;\n",
              "    }\n",
              "\n",
              "    .dataframe tbody tr th {\n",
              "        vertical-align: top;\n",
              "    }\n",
              "\n",
              "    .dataframe thead th {\n",
              "        text-align: right;\n",
              "    }\n",
              "</style>\n",
              "<table border=\"1\" class=\"dataframe\">\n",
              "  <thead>\n",
              "    <tr style=\"text-align: right;\">\n",
              "      <th></th>\n",
              "      <th>Outstanding</th>\n",
              "      <th>Floating</th>\n",
              "      <th>Name</th>\n",
              "    </tr>\n",
              "  </thead>\n",
              "  <tbody>\n",
              "    <tr>\n",
              "      <th>005930</th>\n",
              "      <td>5969782550</td>\n",
              "      <td>75.12</td>\n",
              "      <td>삼성전자</td>\n",
              "    </tr>\n",
              "    <tr>\n",
              "      <th>000660</th>\n",
              "      <td>728002365</td>\n",
              "      <td>74.29</td>\n",
              "      <td>SK하이닉스</td>\n",
              "    </tr>\n",
              "    <tr>\n",
              "      <th>068270</th>\n",
              "      <td>140688010</td>\n",
              "      <td>75.39</td>\n",
              "      <td>셀트리온</td>\n",
              "    </tr>\n",
              "    <tr>\n",
              "      <th>005380</th>\n",
              "      <td>213668187</td>\n",
              "      <td>63.58</td>\n",
              "      <td>현대차</td>\n",
              "    </tr>\n",
              "    <tr>\n",
              "      <th>207940</th>\n",
              "      <td>66165000</td>\n",
              "      <td>30.09</td>\n",
              "      <td>삼성바이오로직스</td>\n",
              "    </tr>\n",
              "    <tr>\n",
              "      <th>051910</th>\n",
              "      <td>70592343</td>\n",
              "      <td>66.13</td>\n",
              "      <td>LG화학</td>\n",
              "    </tr>\n",
              "    <tr>\n",
              "      <th>005490</th>\n",
              "      <td>87186835</td>\n",
              "      <td>68.17</td>\n",
              "      <td>POSCO홀딩스</td>\n",
              "    </tr>\n",
              "    <tr>\n",
              "      <th>035420</th>\n",
              "      <td>164049085</td>\n",
              "      <td>81.81</td>\n",
              "      <td>NAVER</td>\n",
              "    </tr>\n",
              "    <tr>\n",
              "      <th>017670</th>\n",
              "      <td>218833144</td>\n",
              "      <td>63.10</td>\n",
              "      <td>SK텔레콤</td>\n",
              "    </tr>\n",
              "    <tr>\n",
              "      <th>015760</th>\n",
              "      <td>641964077</td>\n",
              "      <td>46.52</td>\n",
              "      <td>한국전력</td>\n",
              "    </tr>\n",
              "  </tbody>\n",
              "</table>\n",
              "</div>\n",
              "      <button class=\"colab-df-convert\" onclick=\"convertToInteractive('df-c34aca53-1d6c-4161-a938-d7331002bfa5')\"\n",
              "              title=\"Convert this dataframe to an interactive table.\"\n",
              "              style=\"display:none;\">\n",
              "        \n",
              "  <svg xmlns=\"http://www.w3.org/2000/svg\" height=\"24px\"viewBox=\"0 0 24 24\"\n",
              "       width=\"24px\">\n",
              "    <path d=\"M0 0h24v24H0V0z\" fill=\"none\"/>\n",
              "    <path d=\"M18.56 5.44l.94 2.06.94-2.06 2.06-.94-2.06-.94-.94-2.06-.94 2.06-2.06.94zm-11 1L8.5 8.5l.94-2.06 2.06-.94-2.06-.94L8.5 2.5l-.94 2.06-2.06.94zm10 10l.94 2.06.94-2.06 2.06-.94-2.06-.94-.94-2.06-.94 2.06-2.06.94z\"/><path d=\"M17.41 7.96l-1.37-1.37c-.4-.4-.92-.59-1.43-.59-.52 0-1.04.2-1.43.59L10.3 9.45l-7.72 7.72c-.78.78-.78 2.05 0 2.83L4 21.41c.39.39.9.59 1.41.59.51 0 1.02-.2 1.41-.59l7.78-7.78 2.81-2.81c.8-.78.8-2.07 0-2.86zM5.41 20L4 18.59l7.72-7.72 1.47 1.35L5.41 20z\"/>\n",
              "  </svg>\n",
              "      </button>\n",
              "      \n",
              "  <style>\n",
              "    .colab-df-container {\n",
              "      display:flex;\n",
              "      flex-wrap:wrap;\n",
              "      gap: 12px;\n",
              "    }\n",
              "\n",
              "    .colab-df-convert {\n",
              "      background-color: #E8F0FE;\n",
              "      border: none;\n",
              "      border-radius: 50%;\n",
              "      cursor: pointer;\n",
              "      display: none;\n",
              "      fill: #1967D2;\n",
              "      height: 32px;\n",
              "      padding: 0 0 0 0;\n",
              "      width: 32px;\n",
              "    }\n",
              "\n",
              "    .colab-df-convert:hover {\n",
              "      background-color: #E2EBFA;\n",
              "      box-shadow: 0px 1px 2px rgba(60, 64, 67, 0.3), 0px 1px 3px 1px rgba(60, 64, 67, 0.15);\n",
              "      fill: #174EA6;\n",
              "    }\n",
              "\n",
              "    [theme=dark] .colab-df-convert {\n",
              "      background-color: #3B4455;\n",
              "      fill: #D2E3FC;\n",
              "    }\n",
              "\n",
              "    [theme=dark] .colab-df-convert:hover {\n",
              "      background-color: #434B5C;\n",
              "      box-shadow: 0px 1px 3px 1px rgba(0, 0, 0, 0.15);\n",
              "      filter: drop-shadow(0px 1px 2px rgba(0, 0, 0, 0.3));\n",
              "      fill: #FFFFFF;\n",
              "    }\n",
              "  </style>\n",
              "\n",
              "      <script>\n",
              "        const buttonEl =\n",
              "          document.querySelector('#df-c34aca53-1d6c-4161-a938-d7331002bfa5 button.colab-df-convert');\n",
              "        buttonEl.style.display =\n",
              "          google.colab.kernel.accessAllowed ? 'block' : 'none';\n",
              "\n",
              "        async function convertToInteractive(key) {\n",
              "          const element = document.querySelector('#df-c34aca53-1d6c-4161-a938-d7331002bfa5');\n",
              "          const dataTable =\n",
              "            await google.colab.kernel.invokeFunction('convertToInteractive',\n",
              "                                                     [key], {});\n",
              "          if (!dataTable) return;\n",
              "\n",
              "          const docLinkHtml = 'Like what you see? Visit the ' +\n",
              "            '<a target=\"_blank\" href=https://colab.research.google.com/notebooks/data_table.ipynb>data table notebook</a>'\n",
              "            + ' to learn more about interactive tables.';\n",
              "          element.innerHTML = '';\n",
              "          dataTable['output_type'] = 'display_data';\n",
              "          await google.colab.output.renderOutput(dataTable, element);\n",
              "          const docLink = document.createElement('div');\n",
              "          docLink.innerHTML = docLinkHtml;\n",
              "          element.appendChild(docLink);\n",
              "        }\n",
              "      </script>\n",
              "    </div>\n",
              "  </div>\n",
              "  "
            ]
          },
          "metadata": {},
          "execution_count": 6
        }
      ],
      "source": [
        "# 과거 시세만 반영\n",
        "tmp = {'Outstanding' : k10_outstanding,\\\n",
        "       'Floating' : k10_floating,\\\n",
        "       'Name' : k10_name}\n",
        "k10_info = pd.DataFrame(tmp)\n",
        "k10_info"
      ]
    },
    {
      "cell_type": "code",
      "execution_count": null,
      "metadata": {
        "id": "p6hPoui-e8vK"
      },
      "outputs": [],
      "source": [
        "def date_format(d):\n",
        "\n",
        "    d = str(d)\n",
        "    d = d.replace('/', '-')\n",
        "    d = d.replace('.', '-')\n",
        "\n",
        "    yyyy = int(d.split('-')[0])\n",
        "    if yyyy < 50:\n",
        "        yyyy = yyyy + 2000\n",
        "    elif yyyy >=50 and yyyy < 100:\n",
        "        yyyy = yyyy + 1900\n",
        "    mm = int(d.split('-')[1])\n",
        "    dd = int(d.split('-')[2])\n",
        "\n",
        "    return dt.date(yyyy, mm, dd)"
      ]
    },
    {
      "cell_type": "code",
      "execution_count": null,
      "metadata": {
        "id": "j6m6JDaqe8vM"
      },
      "outputs": [],
      "source": [
        "def historical_stock_naver(stock_cd, start_date='', end_date='', page_n=1, last_page=0):\n",
        "    \n",
        "    if start_date:\n",
        "        start_date = date_format(start_date)\n",
        "    else:\n",
        "        start_date = dt.date.today()\n",
        "    if end_date:\n",
        "        end_date = date_format(end_date)\n",
        "    else:\n",
        "        end_date = dt.date.today()\n",
        "        \n",
        "    naver_stock = 'http://finance.naver.com/item/sise_day.nhn?code=' + stock_cd + '&page=' + str(page_n)\n",
        "    \n",
        "    source = urlopen(naver_stock).read()\n",
        "    source = bs4.BeautifulSoup(source, 'lxml')\n",
        "    \n",
        "    dates = source.find_all('span', class_='tah p10 gray03')   # 날짜 수집   \n",
        "    prices = source.find_all('td', class_='num')   # 종가 수집\n",
        "    \n",
        "    for n in range(len(dates)):\n",
        "    \n",
        "        if len(dates) > 0:\n",
        "            \n",
        "            # 날짜 처리\n",
        "            this_date = dates[n].text\n",
        "            this_date = date_format(this_date)\n",
        "            \n",
        "            if this_date <= end_date and this_date >= start_date:   \n",
        "            # start_date와 end_date 사이에서 데이터 저장\n",
        "                # 종가 처리\n",
        "                this_close = prices[n*6].text\n",
        "                this_close = this_close.replace(',', '')\n",
        "                this_close = float(this_close)\n",
        "\n",
        "                # 딕셔너리에 저장\n",
        "                historical_prices[this_date] = this_close\n",
        "                              \n",
        "            elif this_date < start_date:   \n",
        "            # start_date 이전이면 함수 종료\n",
        "                return historical_prices              \n",
        "            \n",
        "    # 페이지 네비게이션\n",
        "    if last_page == 0:\n",
        "        last_page = source.find_all('table')[1].find('td', class_='pgRR').find('a')['href']\n",
        "        last_page = last_page.split('&')[1]\n",
        "        last_page = last_page.split('=')[1]\n",
        "        last_page = float(last_page)\n",
        "        \n",
        "    # 다음 페이지 호출\n",
        "    if page_n < last_page:\n",
        "        page_n = page_n + 1\n",
        "        historical_stock_naver(stock_cd, start_date, end_date, page_n, last_page)   \n",
        "        \n",
        "    return historical_prices  "
      ]
    },
    {
      "cell_type": "code",
      "execution_count": null,
      "metadata": {
        "colab": {
          "base_uri": "https://localhost:8080/",
          "height": 376
        },
        "id": "nc-YIGe5e8vO",
        "outputId": "aa32655c-96c4-4438-cb53-127866a11d5a"
      },
      "outputs": [
        {
          "output_type": "error",
          "ename": "IndexError",
          "evalue": "ignored",
          "traceback": [
            "\u001b[0;31m---------------------------------------------------------------------------\u001b[0m",
            "\u001b[0;31mIndexError\u001b[0m                                Traceback (most recent call last)",
            "\u001b[0;32m<ipython-input-9-ab7f937fbfd1>\u001b[0m in \u001b[0;36m<module>\u001b[0;34m()\u001b[0m\n\u001b[1;32m      6\u001b[0m     \u001b[0mstart_date\u001b[0m \u001b[0;34m=\u001b[0m \u001b[0;34m'2017-1-1'\u001b[0m\u001b[0;34m\u001b[0m\u001b[0;34m\u001b[0m\u001b[0m\n\u001b[1;32m      7\u001b[0m     \u001b[0mend_date\u001b[0m \u001b[0;34m=\u001b[0m \u001b[0;34m'2017-12-31'\u001b[0m\u001b[0;34m\u001b[0m\u001b[0;34m\u001b[0m\u001b[0m\n\u001b[0;32m----> 8\u001b[0;31m     \u001b[0mhistorical_prices\u001b[0m \u001b[0;34m=\u001b[0m \u001b[0mhistorical_stock_naver\u001b[0m\u001b[0;34m(\u001b[0m\u001b[0mstock_cd\u001b[0m\u001b[0;34m,\u001b[0m \u001b[0mstart_date\u001b[0m\u001b[0;34m,\u001b[0m \u001b[0mend_date\u001b[0m\u001b[0;34m)\u001b[0m\u001b[0;34m\u001b[0m\u001b[0;34m\u001b[0m\u001b[0m\n\u001b[0m\u001b[1;32m      9\u001b[0m \u001b[0;34m\u001b[0m\u001b[0m\n\u001b[1;32m     10\u001b[0m     \u001b[0mk10_historical_prices\u001b[0m\u001b[0;34m[\u001b[0m\u001b[0mstock_cd\u001b[0m\u001b[0;34m]\u001b[0m \u001b[0;34m=\u001b[0m \u001b[0mhistorical_prices\u001b[0m\u001b[0;34m\u001b[0m\u001b[0;34m\u001b[0m\u001b[0m\n",
            "\u001b[0;32m<ipython-input-8-4a2879506ec9>\u001b[0m in \u001b[0;36mhistorical_stock_naver\u001b[0;34m(stock_cd, start_date, end_date, page_n, last_page)\u001b[0m\n\u001b[1;32m     42\u001b[0m     \u001b[0;31m# 페이지 네비게이션\u001b[0m\u001b[0;34m\u001b[0m\u001b[0;34m\u001b[0m\u001b[0;34m\u001b[0m\u001b[0m\n\u001b[1;32m     43\u001b[0m     \u001b[0;32mif\u001b[0m \u001b[0mlast_page\u001b[0m \u001b[0;34m==\u001b[0m \u001b[0;36m0\u001b[0m\u001b[0;34m:\u001b[0m\u001b[0;34m\u001b[0m\u001b[0;34m\u001b[0m\u001b[0m\n\u001b[0;32m---> 44\u001b[0;31m         \u001b[0mlast_page\u001b[0m \u001b[0;34m=\u001b[0m \u001b[0msource\u001b[0m\u001b[0;34m.\u001b[0m\u001b[0mfind_all\u001b[0m\u001b[0;34m(\u001b[0m\u001b[0;34m'table'\u001b[0m\u001b[0;34m)\u001b[0m\u001b[0;34m[\u001b[0m\u001b[0;36m1\u001b[0m\u001b[0;34m]\u001b[0m\u001b[0;34m.\u001b[0m\u001b[0mfind\u001b[0m\u001b[0;34m(\u001b[0m\u001b[0;34m'td'\u001b[0m\u001b[0;34m,\u001b[0m \u001b[0mclass_\u001b[0m\u001b[0;34m=\u001b[0m\u001b[0;34m'pgRR'\u001b[0m\u001b[0;34m)\u001b[0m\u001b[0;34m.\u001b[0m\u001b[0mfind\u001b[0m\u001b[0;34m(\u001b[0m\u001b[0;34m'a'\u001b[0m\u001b[0;34m)\u001b[0m\u001b[0;34m[\u001b[0m\u001b[0;34m'href'\u001b[0m\u001b[0;34m]\u001b[0m\u001b[0;34m\u001b[0m\u001b[0;34m\u001b[0m\u001b[0m\n\u001b[0m\u001b[1;32m     45\u001b[0m         \u001b[0mlast_page\u001b[0m \u001b[0;34m=\u001b[0m \u001b[0mlast_page\u001b[0m\u001b[0;34m.\u001b[0m\u001b[0msplit\u001b[0m\u001b[0;34m(\u001b[0m\u001b[0;34m'&'\u001b[0m\u001b[0;34m)\u001b[0m\u001b[0;34m[\u001b[0m\u001b[0;36m1\u001b[0m\u001b[0;34m]\u001b[0m\u001b[0;34m\u001b[0m\u001b[0;34m\u001b[0m\u001b[0m\n\u001b[1;32m     46\u001b[0m         \u001b[0mlast_page\u001b[0m \u001b[0;34m=\u001b[0m \u001b[0mlast_page\u001b[0m\u001b[0;34m.\u001b[0m\u001b[0msplit\u001b[0m\u001b[0;34m(\u001b[0m\u001b[0;34m'='\u001b[0m\u001b[0;34m)\u001b[0m\u001b[0;34m[\u001b[0m\u001b[0;36m1\u001b[0m\u001b[0;34m]\u001b[0m\u001b[0;34m\u001b[0m\u001b[0;34m\u001b[0m\u001b[0m\n",
            "\u001b[0;31mIndexError\u001b[0m: list index out of range"
          ]
        }
      ],
      "source": [
        "k10_historical_prices = dict()\n",
        "\n",
        "for stock_cd in k10_component:\n",
        "    \n",
        "    historical_prices = dict()\n",
        "    start_date = '2017-1-1'\n",
        "    end_date = '2017-12-31'\n",
        "    historical_prices = historical_stock_naver(stock_cd, start_date, end_date)\n",
        "    \n",
        "    k10_historical_prices[stock_cd] = historical_prices"
      ]
    },
    {
      "cell_type": "code",
      "execution_count": null,
      "metadata": {
        "scrolled": true,
        "id": "NGad6qOIe8vQ"
      },
      "outputs": [],
      "source": [
        "k10_historical_price = pd.DataFrame(k10_historical_prices)\n",
        "k10_historical_price.sort_index(axis=1, inplace=True)   # 컬럼 재정렬 (Python3.7 업데이트를 반영한 수정 패치)"
      ]
    },
    {
      "cell_type": "code",
      "execution_count": null,
      "metadata": {
        "id": "mpOgKEjje8vR"
      },
      "outputs": [],
      "source": [
        "k10_historical_price = k10_historical_price.fillna(method='ffill')\n",
        "if k10_historical_price.isnull().values.any():\n",
        "    k10_historical_price = k10_historical_price.fillna(method='bfill')\n",
        "k10_historical_price.head(3)"
      ]
    },
    {
      "cell_type": "code",
      "execution_count": null,
      "metadata": {
        "id": "Yz_NWSire8vS"
      },
      "outputs": [],
      "source": [
        "k10_historical_price['005930'] = k10_historical_price['005930'] / 50   # 삼성전자 액면분할에 따른 수정주가 계산\n",
        "k10_historical_price.head(3)"
      ]
    },
    {
      "cell_type": "markdown",
      "metadata": {
        "id": "pSSFP0i5e8vS"
      },
      "source": [
        "지수 산출을 위한 계산"
      ]
    },
    {
      "cell_type": "code",
      "execution_count": null,
      "metadata": {
        "id": "cS95jhRte8vU"
      },
      "outputs": [],
      "source": [
        "k10_historical_mc = k10_historical_price * k10_info['Outstanding'] * k10_info['Floating'] * 0.01\n",
        "k10_historical_mc.tail(3)"
      ]
    },
    {
      "cell_type": "code",
      "execution_count": null,
      "metadata": {
        "id": "XsYcduz0e8vV"
      },
      "outputs": [],
      "source": [
        "k10 = pd.DataFrame()\n",
        "k10['Market Cap'] = k10_historical_mc.sum(axis=1)\n",
        "#k10.loc[dt.date.today()] = k10_info['f Market Cap'].sum()\n",
        "k10.head(3)"
      ]
    },
    {
      "cell_type": "code",
      "execution_count": null,
      "metadata": {
        "id": "JfcRzuize8vW"
      },
      "outputs": [],
      "source": [
        "base_date = dt.date(2017, 1, 2)"
      ]
    },
    {
      "cell_type": "code",
      "execution_count": null,
      "metadata": {
        "id": "mUjBvkELe8vW"
      },
      "outputs": [],
      "source": [
        "k10['Index'] = k10['Market Cap'] / k10['Market Cap'][base_date] * 100\n",
        "k10.head(3)"
      ]
    },
    {
      "cell_type": "markdown",
      "metadata": {
        "id": "uJscbw-ie8vX"
      },
      "source": [
        "K10 지수 그래프 그리기"
      ]
    },
    {
      "cell_type": "code",
      "execution_count": null,
      "metadata": {
        "id": "pov3fF4Ne8vX"
      },
      "outputs": [],
      "source": [
        "import matplotlib.pyplot as plt\n",
        "%matplotlib inline"
      ]
    },
    {
      "cell_type": "code",
      "execution_count": null,
      "metadata": {
        "id": "BTp0pMW3e8vY"
      },
      "outputs": [],
      "source": [
        "# 그래프에서 한글 사용 세팅\n",
        "plt.rcParams['font.family'] = 'Malgun Gothic'\n",
        "plt.rcParams['font.size'] = 12\n",
        "plt.rcParams['axes.unicode_minus'] = False"
      ]
    },
    {
      "cell_type": "code",
      "execution_count": null,
      "metadata": {
        "id": "6am7LcoZe8vY"
      },
      "outputs": [],
      "source": [
        "plt.rcParams['figure.figsize'] = (10, 5)\n",
        "plt.rcParams['grid.linestyle'] = '--'\n",
        "plt.rcParams['grid.alpha'] = 0.7\n",
        "plt.rcParams['lines.antialiased'] = True"
      ]
    },
    {
      "cell_type": "code",
      "execution_count": null,
      "metadata": {
        "id": "5AitrOq7e8vZ"
      },
      "outputs": [],
      "source": [
        "plt.plot(k10['Index'], color='orange', label='K10')\n",
        "plt.legend(loc=0)\n",
        "plt.grid(True)"
      ]
    },
    {
      "cell_type": "markdown",
      "metadata": {
        "id": "mnvlGkG4e8vZ"
      },
      "source": [
        "KOSPI200과 비교"
      ]
    },
    {
      "cell_type": "code",
      "execution_count": null,
      "metadata": {
        "id": "g57AXsz1e8vZ"
      },
      "outputs": [],
      "source": [
        "def historical_index_naver(index_cd, start_date='', end_date='', page_n=1, last_page=0):\n",
        "    \n",
        "    if start_date:   # start_date가 있으면\n",
        "        start_date = date_format(start_date)   # date 포맷으로 변환\n",
        "    else:    # 없으면\n",
        "        start_date = dt.date.today()   # 오늘 날짜를 지정\n",
        "    if end_date:   \n",
        "        end_date = date_format(end_date)   \n",
        "    else:   \n",
        "        end_date = dt.date.today()  \n",
        "        \n",
        "        \n",
        "    naver_index = 'http://finance.naver.com/sise/sise_index_day.nhn?code=' + index_cd + '&page=' + str(page_n)\n",
        "    \n",
        "    source = urlopen(naver_index).read()   # 지정한 페이지에서 코드 읽기\n",
        "    source = bs4.BeautifulSoup(source, 'lxml')   # 뷰티풀 스프로 태그별로 코드 분류\n",
        "    \n",
        "    dates = source.find_all('td', class_='date')   # <td class=\"date\">태그에서 날짜 수집   \n",
        "    prices = source.find_all('td', class_='number_1')   # <td class=\"number_1\">태그에서 지수 수집\n",
        "    \n",
        "    for n in range(len(dates)):\n",
        "    \n",
        "        if dates[n].text.split('.')[0].isdigit():\n",
        "            \n",
        "            # 날짜 처리\n",
        "            this_date = dates[n].text\n",
        "            this_date= date_format(this_date)\n",
        "            \n",
        "            if this_date <= end_date and this_date >= start_date:   \n",
        "            # start_date와 end_date 사이에서 데이터 저장\n",
        "                # 종가 처리\n",
        "                this_close = prices[n*4].text   # prices 중 종가지수인 0,4,8,...번째 데이터 추출\n",
        "                this_close = this_close.replace(',', '')\n",
        "                this_close = float(this_close)\n",
        "\n",
        "                # 딕셔너리에 저장\n",
        "                historical_prices[this_date] = this_close\n",
        "                \n",
        "            elif this_date < start_date:   \n",
        "            # start_date 이전이면 함수 종료\n",
        "                return historical_prices              \n",
        "            \n",
        "    # 페이지 네비게이션\n",
        "    if last_page == 0:\n",
        "        last_page = source.find('td', class_='pgRR').find('a')['href']\n",
        "        # 마지막페이지 주소 추출\n",
        "        last_page = last_page.split('&')[1]   # & 뒤의 page=506 부분 추출\n",
        "        last_page = last_page.split('=')[1]   # = 뒤의 페이지번호만 추출\n",
        "        last_page = int(last_page)   # 숫자형 변수로 변환\n",
        "        \n",
        "    # 다음 페이지 호출\n",
        "    if page_n < last_page:   \n",
        "        page_n = page_n + 1   \n",
        "        historical_index_naver(index_cd, start_date, end_date, page_n, last_page)   \n",
        "        \n",
        "    return historical_prices  "
      ]
    },
    {
      "cell_type": "code",
      "execution_count": null,
      "metadata": {
        "id": "l1lIHcUre8va"
      },
      "outputs": [],
      "source": [
        "index_cd = 'KPI200'\n",
        "historical_prices = dict()\n",
        "kospi200 = historical_index_naver(index_cd, '2017-1-1', '2017-12-31')\n",
        "k200 = pd.DataFrame({'Index' : kospi200})\n",
        "k200.head(3)"
      ]
    },
    {
      "cell_type": "code",
      "execution_count": null,
      "metadata": {
        "id": "k_Ob678ve8va"
      },
      "outputs": [],
      "source": [
        "# 비교를 편하게 하기 위해 K10 지수를 KOSPI200과 맞춤 (기준일자 기준으로)\n",
        "k10['Adj Index'] = k10['Market Cap'] / k10['Market Cap'][base_date] * k200['Index'][base_date]\n",
        "k10.head(3)"
      ]
    },
    {
      "cell_type": "code",
      "execution_count": null,
      "metadata": {
        "id": "yVZOfk9oe8va"
      },
      "outputs": [],
      "source": [
        "plt.plot(k10['Adj Index'], color='orange', label='K10')\n",
        "plt.plot(k200['Index'], color='blue', label='KOSPI200')\n",
        "plt.legend(loc=0)\n",
        "plt.grid(True)"
      ]
    },
    {
      "cell_type": "markdown",
      "metadata": {
        "id": "osoWk7NCe8vb"
      },
      "source": [
        "# Fund 운용"
      ]
    },
    {
      "cell_type": "code",
      "execution_count": null,
      "metadata": {
        "id": "2wTQNV6Ae8vb"
      },
      "outputs": [],
      "source": [
        "import numpy as np"
      ]
    },
    {
      "cell_type": "code",
      "execution_count": null,
      "metadata": {
        "id": "VaE8xLgme8vb"
      },
      "outputs": [],
      "source": [
        "CU = 50000     # 설정/환매 단위\n",
        "base_date = dt.date(2017, 1, 2)     # 설정 기준일\n",
        "volume = 1000000     # 최초 설정수량\n",
        "interest_rate = 0.02     # 이자율"
      ]
    },
    {
      "cell_type": "code",
      "execution_count": null,
      "metadata": {
        "id": "esNl5QDfe8vb"
      },
      "outputs": [],
      "source": [
        "def creation_redemption(v):\n",
        "    creation = np.random.randint(0, 5) * CU\n",
        "    if v>500000:\n",
        "        redemption = np.random.randint(0, 5) * CU\n",
        "    else:\n",
        "        redemption = 0\n",
        "    volume = v + creation - redemption\n",
        "    return(creation, redemption, volume)"
      ]
    },
    {
      "cell_type": "code",
      "execution_count": null,
      "metadata": {
        "id": "yjSLROrUe8vb"
      },
      "outputs": [],
      "source": [
        "# 보유비중 산정\n",
        "k10_stock_ratio = pd.DataFrame()\n",
        "for s in k10_info.index:\n",
        "    k10_stock_ratio[s] = k10_historical_mc[s] / k10_historical_mc.sum(axis=1) "
      ]
    },
    {
      "cell_type": "code",
      "execution_count": null,
      "metadata": {
        "id": "UOwG7W3qe8vc"
      },
      "outputs": [],
      "source": [
        "Fund_NAV = pd.DataFrame()\n",
        "Fund_Chg = pd.DataFrame()\n",
        "\n",
        "for d in k10_historical_price.index:\n",
        "    \n",
        "    # 포트폴리오 구성용 정보 (당일 주가 / 자산비중)\n",
        "    stock_price = np.array(k10_historical_price.loc[d])\n",
        "    stock_weight = np.array(k10_stock_ratio.loc[d])\n",
        "    \n",
        "    # 기존 주식 포트폴리오 NAV 계산\n",
        "    if (d <= base_date):     # 기준일 이전\n",
        "        # 최초 주식 포트폴리오 (보유량 0)\n",
        "        stock_holdings = np.array([0, 0, 0, 0, 0, 0, 0, 0, 0, 0])\n",
        "        NAV_cash = 0     # 최초 현금 보유량\n",
        "    else:     # 기준일 이후\n",
        "        NAV_stock = sum(stock_holdings * stock_price)     # 주식 잔고\n",
        "        NAV = NAV_stock + NAV_cash     # 전체 잔고\n",
        "        \n",
        "    # 기준가격 산정\n",
        "    if (d <= base_date):\n",
        "        # 최초 기준가를 기준일자의 KOSPI 200 지수와 맞춤\n",
        "        price = k200['Index'][base_date] * 100\n",
        "    else:\n",
        "        price = NAV / volume\n",
        "        \n",
        "    # 신규 펀드 설정/환매 좌수 계산\n",
        "    if (d == base_date):\n",
        "        volume = 0     # 펀드 좌수\n",
        "        volume_chg = 1000000     # 첫날 설정액\n",
        "    else:\n",
        "        vol = creation_redemption(volume)     # 설정/환매 함수 호출\n",
        "        volume_chg = vol[0] - vol[1]     # 좌수 변동 \n",
        "    # 총 펀드 좌수에 반영\n",
        "    volume = volume + volume_chg\n",
        "    # 펀드 입출금액\n",
        "    aum_chg = price * volume_chg\n",
        "    \n",
        "    # 신규 주식 거래량 계산\n",
        "    stock_trade = np.floor( price * volume_chg * stock_weight / stock_price )    \n",
        "    # 주식 매매금액\n",
        "    trade_amt = sum(stock_trade * stock_price)\n",
        "    # 현금 잔고 변동 \n",
        "    cash_chg = aum_chg - trade_amt\n",
        "    \n",
        "    # 총 주식 보유량 = 기 보유량 + 신규 거래량\n",
        "    stock_holdings = stock_holdings + stock_trade\n",
        "    # 현금 보유량 증가 (이자율 반영)\n",
        "    cash_holdings = np.floor( NAV_cash * np.exp(interest_rate/365) ) \n",
        "\n",
        "    # NAV 업데이트\n",
        "    NAV_stock = sum(stock_holdings * stock_price)     # 주식 잔고\n",
        "    NAV_cash = cash_holdings + cash_chg     # 현금 잔고\n",
        "    NAV = NAV_stock + NAV_cash     # 전체 잔고\n",
        "\n",
        "    date = pd.Series(d)\n",
        "    \n",
        "    # Fund NAV 정보를 DataFrame에 저장\n",
        "    NAV_tmp = {'Stock' : NAV_stock, 'Cash' : NAV_cash, 'Total' : NAV, 'Price' : price}\n",
        "    tmp = pd.DataFrame(NAV_tmp, index=date)\n",
        "    Fund_NAV = Fund_NAV.append(tmp)\n",
        "    \n",
        "    # 일자별 설정&환매 좌수 정보를 DataFrame에 저장\n",
        "    Chg_tmp = {'Amount Change' : aum_chg, 'Trade Amount' : trade_amt, 'Cash Change' : cash_chg}\n",
        "    tmp = pd.DataFrame(Chg_tmp, index=date)\n",
        "    Fund_Chg = Fund_Chg.append(tmp)"
      ]
    },
    {
      "cell_type": "code",
      "execution_count": null,
      "metadata": {
        "id": "zt0y_OZHe8vc"
      },
      "outputs": [],
      "source": [
        "# 펀드 수익률 vs 지수 수익률\n",
        "Earnings = pd.DataFrame()\n",
        "Earnings['K10'] = ( k10['Index'] - k10['Index'][base_date] ) / k10['Index'][base_date] * 100\n",
        "Earnings['KOSPI200'] = ( k200['Index'] - k200['Index'][base_date] ) / k200['Index'][base_date] * 100\n",
        "Earnings['Fund'] = ( Fund_NAV['Price'] - Fund_NAV['Price'][base_date] )/ Fund_NAV['Price'][base_date] * 100\n",
        "ax = Earnings.plot(color = ['orange', 'blue', 'red'])\n",
        "ax.legend(loc=0)\n",
        "ax.set_ylabel('(수익률, %)')\n",
        "ax.grid(True)"
      ]
    },
    {
      "cell_type": "code",
      "execution_count": null,
      "metadata": {
        "id": "ZzbU2qY-e8vc"
      },
      "outputs": [],
      "source": [
        "# 펀드 기준가 vs 지수 \n",
        "Indicator = pd.DataFrame()\n",
        "Indicator['K10'] = k10['Adj Index']\n",
        "Indicator['KOSPI200'] = k200['Index']\n",
        "Indicator['Fund'] = Fund_NAV['Price']/100\n",
        "ax = Indicator.plot(color = ['orange', 'blue', 'red'])\n",
        "ax.legend(loc=0)\n",
        "ax.set_ylabel('(수익률, %)')\n",
        "ax.grid(True)"
      ]
    },
    {
      "cell_type": "code",
      "execution_count": null,
      "metadata": {
        "id": "g9S7cb5Ie8vd"
      },
      "outputs": [],
      "source": [
        "fig = plt.figure(figsize=(10, 8))\n",
        "ax1 = fig.add_subplot(2, 1, 1)\n",
        "ax2 = fig.add_subplot(2, 1, 2)\n",
        "Earnings.plot.line(ax=ax1, color = ['orange', 'b', 'r'])\n",
        "ax1.set_ylabel('(수익률, %)')\n",
        "Fund_NAV['Display'] = Fund_NAV['Total'] * 0.00000001\n",
        "Fund_NAV['Display'].plot.area(ax=ax2, stacked=False, sharex=True)\n",
        "ax2.set_ylabel('(NAV, 억원)')\n",
        "ax1.grid(True)\n",
        "ax2.grid(True)"
      ]
    },
    {
      "cell_type": "code",
      "execution_count": null,
      "metadata": {
        "id": "09nLFK6Ye8vd"
      },
      "outputs": [],
      "source": [
        "# 일간 수익률\n",
        "fig = plt.figure()\n",
        "ax = fig.add_subplot(1, 1, 1)\n",
        "Daily = pd.DataFrame()\n",
        "Daily['K10'] = (k10['Index'] - k10['Index'].shift(1))\\\n",
        "                / k10['Index'].shift(1) * 100  \n",
        "Daily['K200'] = (k200['Index'] - k200['Index'].shift(1))\\\n",
        "                / k200['Index'].shift(1) * 100\n",
        "Daily['Fund'] = (Fund_NAV['Price'] - Fund_NAV['Price'].shift(1))\\\n",
        "                / Fund_NAV['Price'].shift(1) * 100  \n",
        "Daily.plot(ax=ax, color = ['orange', 'blue', 'red'], alpha=0.7)\n",
        "ax.set_ylabel('(%)')\n",
        "ax.grid(True)"
      ]
    },
    {
      "cell_type": "code",
      "execution_count": null,
      "metadata": {
        "id": "gkGRkIEZe8vd"
      },
      "outputs": [],
      "source": [
        "# KOSPI200 대비 일간 추적오차율 \n",
        "fig = plt.figure()\n",
        "ax = fig.add_subplot(1, 1, 1)\n",
        "Daily['TE200'] = Daily['Fund'] - Daily['K200']    # 추적오차율 = 펀드수익률 - 지수수익률\n",
        "Daily['TE200'].plot(ax=ax)\n",
        "ax.grid(True)"
      ]
    },
    {
      "cell_type": "code",
      "execution_count": null,
      "metadata": {
        "id": "av4_6-gRe8ve"
      },
      "outputs": [],
      "source": [
        "# K10 대비 일간 추적오차율 \n",
        "fig = plt.figure()\n",
        "ax = fig.add_subplot(1, 1, 1)\n",
        "Daily['TE10'] = Daily['Fund'] - Daily['K10']\n",
        "Daily['TE10'].plot(ax=ax)\n",
        "ax.grid(True)"
      ]
    },
    {
      "cell_type": "code",
      "execution_count": null,
      "metadata": {
        "id": "WURxfJyce8ve"
      },
      "outputs": [],
      "source": [
        ""
      ]
    }
  ],
  "metadata": {
    "kernelspec": {
      "display_name": "Python 3",
      "language": "python",
      "name": "python3"
    },
    "language_info": {
      "codemirror_mode": {
        "name": "ipython",
        "version": 3
      },
      "file_extension": ".py",
      "mimetype": "text/x-python",
      "name": "python",
      "nbconvert_exporter": "python",
      "pygments_lexer": "ipython3",
      "version": "3.8.0"
    },
    "colab": {
      "name": "펀드 운용 모델.ipynb",
      "provenance": [],
      "include_colab_link": true
    }
  },
  "nbformat": 4,
  "nbformat_minor": 0
}