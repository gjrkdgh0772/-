{
  "cells": [
    {
      "cell_type": "markdown",
      "metadata": {
        "id": "view-in-github",
        "colab_type": "text"
      },
      "source": [
        "<a href=\"https://colab.research.google.com/github/gjrkdgh0772/Finance/blob/main/lec05_%EA%B8%88%EC%9C%B5_pandas_mission.ipynb\" target=\"_parent\"><img src=\"https://colab.research.google.com/assets/colab-badge.svg\" alt=\"Open In Colab\"/></a>"
      ]
    },
    {
      "cell_type": "markdown",
      "id": "742354d0-6bb5-40b2-b866-0961701d7f90",
      "metadata": {
        "id": "742354d0-6bb5-40b2-b866-0961701d7f90"
      },
      "source": [
        "<font size=6><b>Lec02 : 금융을 위한 Pandas 활용 </b></font>"
      ]
    },
    {
      "cell_type": "markdown",
      "id": "30de74e1-8985-402e-b3a4-312217ff0496",
      "metadata": {
        "id": "30de74e1-8985-402e-b3a4-312217ff0496"
      },
      "source": [
        "### 주식 용어\n",
        "<pre>\n",
        "* <b>시가총액</b> : 시가총액은 기업의 가치를 결정하는 지표\n",
        "          시가총액 = 주식 수 × 주식 1주당 가격\n",
        "\n",
        "* <B>KOSPI</B> : 한국증권거래소에 상장되어 거래되는 모든 주식의 시가총액을 합쳐서 주식시장 전체 장세의 흐름을 나타내는 지수\n",
        "          KOSPI 지수 = (현재 시가총액 합 / 1980. 1. 4 기준 시가총액 합) × 100\n",
        " \n",
        "* <B> KOSDAQ</B> : 중소기업이나 신생 벤처기업을 위한 1996년 첨단 기술주 중심인 미국의 나스닥(NASDAQ) 시장을 본떠 만든 대한민국의 주식시장\n",
        "\n",
        "* <B> KOSPI 200</B> : 어업, 광업, 제조업, 전기가스업, 건설업, 서비스업, 통신업 등 8개의 산업군에서 각 산업을 대표할 수 있는 200개의 종목을 뽑아서 만든 지수\n",
        "\n",
        "* <B> KODEX 200</B> : 삼성자산운용에서 운용하는 ETF로, KOSPI 200을 추종(복제)하는 ETF\n",
        "\n",
        "* <B> ETF</B> : 특정 주가지수 또는 금, 채권, 원유와 같은 특정 자산가격를 그대로 추종하는 성격을 지닌 금융상품\n",
        " </pre>"
      ]
    },
    {
      "cell_type": "code",
      "execution_count": null,
      "id": "b020ab6f-bb00-40b7-b09a-92a77e9d9c3a",
      "metadata": {
        "id": "b020ab6f-bb00-40b7-b09a-92a77e9d9c3a",
        "outputId": "766660d9-7850-4638-8f29-622fcb062044"
      },
      "outputs": [
        {
          "data": {
            "text/html": [
              "<style>.container{width:100% !important;}</style>"
            ],
            "text/plain": [
              "<IPython.core.display.HTML object>"
            ]
          },
          "metadata": {},
          "output_type": "display_data"
        }
      ],
      "source": [
        "from pykrx import stock\n",
        "from pykrx import bond\n",
        "import FinanceDataReader as fdr\n",
        "\n",
        "from IPython.display import Image\n",
        "import pandas as pd\n",
        "import numpy as np\n",
        "import matplotlib.pyplot as plt\n",
        "import seaborn as sns\n",
        "\n",
        "\n",
        "import warnings\n",
        "warnings.filterwarnings(action='ignore')\n",
        "\n",
        "#-------------------- 차트 관련 속성 (한글처리, 그리드) -----------\n",
        "#plt.rc('font', family='NanumGothicOTF') # For MacOS\n",
        "plt.rcParams['font.family']= 'Malgun Gothic'\n",
        "plt.rcParams['axes.unicode_minus'] = False\n",
        "sns.set()\n",
        "\n",
        "#-------------------- 주피터 , 출력결과 넓이 늘리기 ---------------\n",
        "from IPython.core.display import display, HTML\n",
        "display(HTML(\"<style>.container{width:100% !important;}</style>\"))\n",
        "pd.set_option('display.max_rows', 100)\n",
        "pd.set_option('display.max_columns', 100)\n",
        "pd.set_option('max_colwidth', None)\n",
        "\n"
      ]
    },
    {
      "cell_type": "markdown",
      "id": "aaf10fe5-fa1f-4749-8c9f-cd11569b5d6a",
      "metadata": {
        "tags": [],
        "id": "aaf10fe5-fa1f-4749-8c9f-cd11569b5d6a"
      },
      "source": [
        "# Data Load by pykrx"
      ]
    },
    {
      "cell_type": "code",
      "execution_count": null,
      "id": "f9abcdf2-7bd6-40fc-b308-9863a621d47d",
      "metadata": {
        "id": "f9abcdf2-7bd6-40fc-b308-9863a621d47d",
        "outputId": "1e5bf3cd-a99e-48c0-f272-d4cb6c755953"
      },
      "outputs": [
        {
          "name": "stdout",
          "output_type": "stream",
          "text": [
            "['060310', '054620', '265520', '211270', '032790']\n"
          ]
        }
      ],
      "source": [
        "tickers = stock.get_market_ticker_list(\"20220225\", market=\"KOSDAQ\") #KOSPI, KOSDAQ, KONEX\n",
        "print(tickers[:5])"
      ]
    },
    {
      "cell_type": "code",
      "execution_count": null,
      "id": "2f0d3ec2-0901-4c74-8e85-8e3eecc6601e",
      "metadata": {
        "id": "2f0d3ec2-0901-4c74-8e85-8e3eecc6601e",
        "outputId": "901966a6-deb4-423c-8d2c-8d849255e8a8"
      },
      "outputs": [
        {
          "name": "stdout",
          "output_type": "stream",
          "text": [
            "CJ ENM\n"
          ]
        }
      ],
      "source": [
        "종목명 = stock.get_market_ticker_name('035760')\n",
        "print(종목명)"
      ]
    },
    {
      "cell_type": "code",
      "execution_count": null,
      "id": "29a893f9-c4ed-4d8e-82cc-70fe63fef83c",
      "metadata": {
        "id": "29a893f9-c4ed-4d8e-82cc-70fe63fef83c",
        "outputId": "ee00a95b-7bb2-4a34-bdf2-e1c4a5633d80"
      },
      "outputs": [
        {
          "data": {
            "text/html": [
              "<div>\n",
              "<style scoped>\n",
              "    .dataframe tbody tr th:only-of-type {\n",
              "        vertical-align: middle;\n",
              "    }\n",
              "\n",
              "    .dataframe tbody tr th {\n",
              "        vertical-align: top;\n",
              "    }\n",
              "\n",
              "    .dataframe thead th {\n",
              "        text-align: right;\n",
              "    }\n",
              "</style>\n",
              "<table border=\"1\" class=\"dataframe\">\n",
              "  <thead>\n",
              "    <tr style=\"text-align: right;\">\n",
              "      <th></th>\n",
              "      <th>시가</th>\n",
              "      <th>고가</th>\n",
              "      <th>저가</th>\n",
              "      <th>종가</th>\n",
              "      <th>거래량</th>\n",
              "    </tr>\n",
              "    <tr>\n",
              "      <th>날짜</th>\n",
              "      <th></th>\n",
              "      <th></th>\n",
              "      <th></th>\n",
              "      <th></th>\n",
              "      <th></th>\n",
              "    </tr>\n",
              "  </thead>\n",
              "  <tbody>\n",
              "    <tr>\n",
              "      <th>2021-01-04</th>\n",
              "      <td>81000</td>\n",
              "      <td>84400</td>\n",
              "      <td>80200</td>\n",
              "      <td>83000</td>\n",
              "      <td>38655276</td>\n",
              "    </tr>\n",
              "    <tr>\n",
              "      <th>2021-01-05</th>\n",
              "      <td>81600</td>\n",
              "      <td>83900</td>\n",
              "      <td>81600</td>\n",
              "      <td>83900</td>\n",
              "      <td>35335669</td>\n",
              "    </tr>\n",
              "    <tr>\n",
              "      <th>2021-01-06</th>\n",
              "      <td>83300</td>\n",
              "      <td>84500</td>\n",
              "      <td>82100</td>\n",
              "      <td>82200</td>\n",
              "      <td>42089013</td>\n",
              "    </tr>\n",
              "  </tbody>\n",
              "</table>\n",
              "</div>"
            ],
            "text/plain": [
              "               시가     고가     저가     종가       거래량\n",
              "날짜                                              \n",
              "2021-01-04  81000  84400  80200  83000  38655276\n",
              "2021-01-05  81600  83900  81600  83900  35335669\n",
              "2021-01-06  83300  84500  82100  82200  42089013"
            ]
          },
          "execution_count": 4,
          "metadata": {},
          "output_type": "execute_result"
        }
      ],
      "source": [
        "df = stock.get_market_ohlcv(\"2021-01-01\", \"2021-12-31\", \"005930\")\n",
        "df.head(3)"
      ]
    },
    {
      "cell_type": "markdown",
      "id": "6024193d-eb9d-4932-8f0a-ff8aaae5a11a",
      "metadata": {
        "id": "6024193d-eb9d-4932-8f0a-ff8aaae5a11a"
      },
      "source": [
        "* 컬럼 이름 변경"
      ]
    },
    {
      "cell_type": "code",
      "execution_count": null,
      "id": "6ceffcdc-a052-42a9-9a58-ea0de528b7ac",
      "metadata": {
        "id": "6ceffcdc-a052-42a9-9a58-ea0de528b7ac"
      },
      "outputs": [],
      "source": [
        "df.columns = ['open','high','low','close','volumn']"
      ]
    },
    {
      "cell_type": "code",
      "execution_count": null,
      "id": "59b0bb53-8ed5-4811-b3db-915b5b049072",
      "metadata": {
        "id": "59b0bb53-8ed5-4811-b3db-915b5b049072",
        "outputId": "de402efb-180e-458d-976a-39f74a7c6399"
      },
      "outputs": [
        {
          "data": {
            "text/plain": [
              "open      0\n",
              "high      0\n",
              "low       0\n",
              "close     0\n",
              "volumn    0\n",
              "dtype: int64"
            ]
          },
          "execution_count": 6,
          "metadata": {},
          "output_type": "execute_result"
        }
      ],
      "source": [
        "df.isna().sum()"
      ]
    },
    {
      "cell_type": "markdown",
      "id": "dbac1b47-accb-488e-881c-290cc0f456eb",
      "metadata": {
        "id": "dbac1b47-accb-488e-881c-290cc0f456eb"
      },
      "source": [
        "# 금융을 위한 pandas"
      ]
    },
    {
      "cell_type": "markdown",
      "id": "f52e340e-f00e-4eca-9e7f-1230462d8ac0",
      "metadata": {
        "id": "f52e340e-f00e-4eca-9e7f-1230462d8ac0"
      },
      "source": [
        "## shift(N)\n",
        "* N일가격 컬럼에 가져오기\n",
        "* <font size=4 color=red><b>전일 대비 가격 증감에 주로 사용 "
      ]
    },
    {
      "cell_type": "code",
      "execution_count": null,
      "id": "5a2ed441-0964-4122-8344-05f4c08619e5",
      "metadata": {
        "id": "5a2ed441-0964-4122-8344-05f4c08619e5",
        "outputId": "618d8d1f-df21-4c80-e9a2-63a895738793"
      },
      "outputs": [
        {
          "data": {
            "text/html": [
              "<div>\n",
              "<style scoped>\n",
              "    .dataframe tbody tr th:only-of-type {\n",
              "        vertical-align: middle;\n",
              "    }\n",
              "\n",
              "    .dataframe tbody tr th {\n",
              "        vertical-align: top;\n",
              "    }\n",
              "\n",
              "    .dataframe thead th {\n",
              "        text-align: right;\n",
              "    }\n",
              "</style>\n",
              "<table border=\"1\" class=\"dataframe\">\n",
              "  <thead>\n",
              "    <tr style=\"text-align: right;\">\n",
              "      <th></th>\n",
              "      <th>open</th>\n",
              "      <th>high</th>\n",
              "      <th>low</th>\n",
              "      <th>close</th>\n",
              "      <th>volumn</th>\n",
              "      <th>close_shift</th>\n",
              "    </tr>\n",
              "    <tr>\n",
              "      <th>날짜</th>\n",
              "      <th></th>\n",
              "      <th></th>\n",
              "      <th></th>\n",
              "      <th></th>\n",
              "      <th></th>\n",
              "      <th></th>\n",
              "    </tr>\n",
              "  </thead>\n",
              "  <tbody>\n",
              "    <tr>\n",
              "      <th>2021-01-04</th>\n",
              "      <td>81000</td>\n",
              "      <td>84400</td>\n",
              "      <td>80200</td>\n",
              "      <td>83000</td>\n",
              "      <td>38655276</td>\n",
              "      <td>NaN</td>\n",
              "    </tr>\n",
              "    <tr>\n",
              "      <th>2021-01-05</th>\n",
              "      <td>81600</td>\n",
              "      <td>83900</td>\n",
              "      <td>81600</td>\n",
              "      <td>83900</td>\n",
              "      <td>35335669</td>\n",
              "      <td>83000.0</td>\n",
              "    </tr>\n",
              "    <tr>\n",
              "      <th>2021-01-06</th>\n",
              "      <td>83300</td>\n",
              "      <td>84500</td>\n",
              "      <td>82100</td>\n",
              "      <td>82200</td>\n",
              "      <td>42089013</td>\n",
              "      <td>83900.0</td>\n",
              "    </tr>\n",
              "    <tr>\n",
              "      <th>2021-01-07</th>\n",
              "      <td>82800</td>\n",
              "      <td>84200</td>\n",
              "      <td>82700</td>\n",
              "      <td>82900</td>\n",
              "      <td>32644642</td>\n",
              "      <td>82200.0</td>\n",
              "    </tr>\n",
              "    <tr>\n",
              "      <th>2021-01-08</th>\n",
              "      <td>83300</td>\n",
              "      <td>90000</td>\n",
              "      <td>83000</td>\n",
              "      <td>88800</td>\n",
              "      <td>59013307</td>\n",
              "      <td>82900.0</td>\n",
              "    </tr>\n",
              "  </tbody>\n",
              "</table>\n",
              "</div>"
            ],
            "text/plain": [
              "             open   high    low  close    volumn  close_shift\n",
              "날짜                                                           \n",
              "2021-01-04  81000  84400  80200  83000  38655276          NaN\n",
              "2021-01-05  81600  83900  81600  83900  35335669      83000.0\n",
              "2021-01-06  83300  84500  82100  82200  42089013      83900.0\n",
              "2021-01-07  82800  84200  82700  82900  32644642      82200.0\n",
              "2021-01-08  83300  90000  83000  88800  59013307      82900.0"
            ]
          },
          "execution_count": 7,
          "metadata": {},
          "output_type": "execute_result"
        }
      ],
      "source": [
        "df['close_shift'] = df['close'].shift(1)\n",
        "df.head()"
      ]
    },
    {
      "cell_type": "code",
      "execution_count": null,
      "id": "dde715a0-4a4a-49ad-8fa2-46544ace6303",
      "metadata": {
        "id": "dde715a0-4a4a-49ad-8fa2-46544ace6303",
        "outputId": "ca1a5657-0cc2-46e3-b962-4b8d80cc8fef"
      },
      "outputs": [
        {
          "data": {
            "text/plain": [
              "날짜\n",
              "2021-01-04    83900.0\n",
              "2021-01-05    82200.0\n",
              "2021-01-06    82900.0\n",
              "2021-01-07    88800.0\n",
              "2021-01-08    91000.0\n",
              "               ...   \n",
              "2021-12-24    80200.0\n",
              "2021-12-27    80300.0\n",
              "2021-12-28    78800.0\n",
              "2021-12-29    78300.0\n",
              "2021-12-30        NaN\n",
              "Name: close, Length: 248, dtype: float64"
            ]
          },
          "execution_count": 8,
          "metadata": {},
          "output_type": "execute_result"
        }
      ],
      "source": [
        "df['close'].shift(-1)"
      ]
    },
    {
      "cell_type": "markdown",
      "id": "0ae873e8-c24a-4d99-b9da-ac77c8e1dbd5",
      "metadata": {
        "id": "0ae873e8-c24a-4d99-b9da-ac77c8e1dbd5"
      },
      "source": [
        "## df[\"Close\"] - df[\"Close\"].shift(1)"
      ]
    },
    {
      "cell_type": "code",
      "execution_count": null,
      "id": "8096eef4-1033-41b7-a4a5-56009c658452",
      "metadata": {
        "id": "8096eef4-1033-41b7-a4a5-56009c658452",
        "outputId": "41e8b4b6-4fe2-4d8e-db55-ce8a547106a1"
      },
      "outputs": [
        {
          "ename": "KeyError",
          "evalue": "'Close'",
          "output_type": "error",
          "traceback": [
            "\u001b[1;31m---------------------------------------------------------------------------\u001b[0m",
            "\u001b[1;31mKeyError\u001b[0m                                  Traceback (most recent call last)",
            "\u001b[1;32mc:\\ai\\pythonproject\\venv\\lib\\site-packages\\pandas\\core\\indexes\\base.py\u001b[0m in \u001b[0;36mget_loc\u001b[1;34m(self, key, method, tolerance)\u001b[0m\n\u001b[0;32m   3360\u001b[0m             \u001b[1;32mtry\u001b[0m\u001b[1;33m:\u001b[0m\u001b[1;33m\u001b[0m\u001b[1;33m\u001b[0m\u001b[0m\n\u001b[1;32m-> 3361\u001b[1;33m                 \u001b[1;32mreturn\u001b[0m \u001b[0mself\u001b[0m\u001b[1;33m.\u001b[0m\u001b[0m_engine\u001b[0m\u001b[1;33m.\u001b[0m\u001b[0mget_loc\u001b[0m\u001b[1;33m(\u001b[0m\u001b[0mcasted_key\u001b[0m\u001b[1;33m)\u001b[0m\u001b[1;33m\u001b[0m\u001b[1;33m\u001b[0m\u001b[0m\n\u001b[0m\u001b[0;32m   3362\u001b[0m             \u001b[1;32mexcept\u001b[0m \u001b[0mKeyError\u001b[0m \u001b[1;32mas\u001b[0m \u001b[0merr\u001b[0m\u001b[1;33m:\u001b[0m\u001b[1;33m\u001b[0m\u001b[1;33m\u001b[0m\u001b[0m\n",
            "\u001b[1;32mc:\\ai\\pythonproject\\venv\\lib\\site-packages\\pandas\\_libs\\index.pyx\u001b[0m in \u001b[0;36mpandas._libs.index.IndexEngine.get_loc\u001b[1;34m()\u001b[0m\n",
            "\u001b[1;32mc:\\ai\\pythonproject\\venv\\lib\\site-packages\\pandas\\_libs\\index.pyx\u001b[0m in \u001b[0;36mpandas._libs.index.IndexEngine.get_loc\u001b[1;34m()\u001b[0m\n",
            "\u001b[1;32mpandas\\_libs\\hashtable_class_helper.pxi\u001b[0m in \u001b[0;36mpandas._libs.hashtable.PyObjectHashTable.get_item\u001b[1;34m()\u001b[0m\n",
            "\u001b[1;32mpandas\\_libs\\hashtable_class_helper.pxi\u001b[0m in \u001b[0;36mpandas._libs.hashtable.PyObjectHashTable.get_item\u001b[1;34m()\u001b[0m\n",
            "\u001b[1;31mKeyError\u001b[0m: 'Close'",
            "\nThe above exception was the direct cause of the following exception:\n",
            "\u001b[1;31mKeyError\u001b[0m                                  Traceback (most recent call last)",
            "\u001b[1;32m~\\AppData\\Local\\Temp/ipykernel_17856/3949941861.py\u001b[0m in \u001b[0;36m<module>\u001b[1;34m\u001b[0m\n\u001b[1;32m----> 1\u001b[1;33m \u001b[0mlast_day\u001b[0m \u001b[1;33m=\u001b[0m \u001b[0mdf\u001b[0m\u001b[1;33m[\u001b[0m\u001b[1;34m\"Close\"\u001b[0m\u001b[1;33m]\u001b[0m\u001b[1;33m.\u001b[0m\u001b[0mshift\u001b[0m\u001b[1;33m(\u001b[0m\u001b[1;36m1\u001b[0m\u001b[1;33m)\u001b[0m\u001b[1;33m\u001b[0m\u001b[1;33m\u001b[0m\u001b[0m\n\u001b[0m\u001b[0;32m      2\u001b[0m \u001b[0mtoday\u001b[0m    \u001b[1;33m=\u001b[0m \u001b[0mdf\u001b[0m\u001b[1;33m[\u001b[0m\u001b[1;34m\"Close\"\u001b[0m\u001b[1;33m]\u001b[0m\u001b[1;33m\u001b[0m\u001b[1;33m\u001b[0m\u001b[0m\n\u001b[0;32m      3\u001b[0m \u001b[0mdf\u001b[0m\u001b[1;33m[\u001b[0m\u001b[1;34m\"pct_chg1\"\u001b[0m\u001b[1;33m]\u001b[0m \u001b[1;33m=\u001b[0m   \u001b[1;33m(\u001b[0m \u001b[1;33m(\u001b[0m\u001b[0mtoday\u001b[0m \u001b[1;33m-\u001b[0m \u001b[0mlast_day\u001b[0m\u001b[1;33m)\u001b[0m \u001b[1;33m/\u001b[0m \u001b[0mlast_day\u001b[0m \u001b[1;33m)\u001b[0m \u001b[1;33m*\u001b[0m \u001b[1;36m100\u001b[0m\u001b[1;33m\u001b[0m\u001b[1;33m\u001b[0m\u001b[0m\n\u001b[0;32m      4\u001b[0m \u001b[0mdf\u001b[0m\u001b[1;33m.\u001b[0m\u001b[0mhead\u001b[0m\u001b[1;33m(\u001b[0m\u001b[1;36m3\u001b[0m\u001b[1;33m)\u001b[0m\u001b[1;33m\u001b[0m\u001b[1;33m\u001b[0m\u001b[0m\n",
            "\u001b[1;32mc:\\ai\\pythonproject\\venv\\lib\\site-packages\\pandas\\core\\frame.py\u001b[0m in \u001b[0;36m__getitem__\u001b[1;34m(self, key)\u001b[0m\n\u001b[0;32m   3456\u001b[0m             \u001b[1;32mif\u001b[0m \u001b[0mself\u001b[0m\u001b[1;33m.\u001b[0m\u001b[0mcolumns\u001b[0m\u001b[1;33m.\u001b[0m\u001b[0mnlevels\u001b[0m \u001b[1;33m>\u001b[0m \u001b[1;36m1\u001b[0m\u001b[1;33m:\u001b[0m\u001b[1;33m\u001b[0m\u001b[1;33m\u001b[0m\u001b[0m\n\u001b[0;32m   3457\u001b[0m                 \u001b[1;32mreturn\u001b[0m \u001b[0mself\u001b[0m\u001b[1;33m.\u001b[0m\u001b[0m_getitem_multilevel\u001b[0m\u001b[1;33m(\u001b[0m\u001b[0mkey\u001b[0m\u001b[1;33m)\u001b[0m\u001b[1;33m\u001b[0m\u001b[1;33m\u001b[0m\u001b[0m\n\u001b[1;32m-> 3458\u001b[1;33m             \u001b[0mindexer\u001b[0m \u001b[1;33m=\u001b[0m \u001b[0mself\u001b[0m\u001b[1;33m.\u001b[0m\u001b[0mcolumns\u001b[0m\u001b[1;33m.\u001b[0m\u001b[0mget_loc\u001b[0m\u001b[1;33m(\u001b[0m\u001b[0mkey\u001b[0m\u001b[1;33m)\u001b[0m\u001b[1;33m\u001b[0m\u001b[1;33m\u001b[0m\u001b[0m\n\u001b[0m\u001b[0;32m   3459\u001b[0m             \u001b[1;32mif\u001b[0m \u001b[0mis_integer\u001b[0m\u001b[1;33m(\u001b[0m\u001b[0mindexer\u001b[0m\u001b[1;33m)\u001b[0m\u001b[1;33m:\u001b[0m\u001b[1;33m\u001b[0m\u001b[1;33m\u001b[0m\u001b[0m\n\u001b[0;32m   3460\u001b[0m                 \u001b[0mindexer\u001b[0m \u001b[1;33m=\u001b[0m \u001b[1;33m[\u001b[0m\u001b[0mindexer\u001b[0m\u001b[1;33m]\u001b[0m\u001b[1;33m\u001b[0m\u001b[1;33m\u001b[0m\u001b[0m\n",
            "\u001b[1;32mc:\\ai\\pythonproject\\venv\\lib\\site-packages\\pandas\\core\\indexes\\base.py\u001b[0m in \u001b[0;36mget_loc\u001b[1;34m(self, key, method, tolerance)\u001b[0m\n\u001b[0;32m   3361\u001b[0m                 \u001b[1;32mreturn\u001b[0m \u001b[0mself\u001b[0m\u001b[1;33m.\u001b[0m\u001b[0m_engine\u001b[0m\u001b[1;33m.\u001b[0m\u001b[0mget_loc\u001b[0m\u001b[1;33m(\u001b[0m\u001b[0mcasted_key\u001b[0m\u001b[1;33m)\u001b[0m\u001b[1;33m\u001b[0m\u001b[1;33m\u001b[0m\u001b[0m\n\u001b[0;32m   3362\u001b[0m             \u001b[1;32mexcept\u001b[0m \u001b[0mKeyError\u001b[0m \u001b[1;32mas\u001b[0m \u001b[0merr\u001b[0m\u001b[1;33m:\u001b[0m\u001b[1;33m\u001b[0m\u001b[1;33m\u001b[0m\u001b[0m\n\u001b[1;32m-> 3363\u001b[1;33m                 \u001b[1;32mraise\u001b[0m \u001b[0mKeyError\u001b[0m\u001b[1;33m(\u001b[0m\u001b[0mkey\u001b[0m\u001b[1;33m)\u001b[0m \u001b[1;32mfrom\u001b[0m \u001b[0merr\u001b[0m\u001b[1;33m\u001b[0m\u001b[1;33m\u001b[0m\u001b[0m\n\u001b[0m\u001b[0;32m   3364\u001b[0m \u001b[1;33m\u001b[0m\u001b[0m\n\u001b[0;32m   3365\u001b[0m         \u001b[1;32mif\u001b[0m \u001b[0mis_scalar\u001b[0m\u001b[1;33m(\u001b[0m\u001b[0mkey\u001b[0m\u001b[1;33m)\u001b[0m \u001b[1;32mand\u001b[0m \u001b[0misna\u001b[0m\u001b[1;33m(\u001b[0m\u001b[0mkey\u001b[0m\u001b[1;33m)\u001b[0m \u001b[1;32mand\u001b[0m \u001b[1;32mnot\u001b[0m \u001b[0mself\u001b[0m\u001b[1;33m.\u001b[0m\u001b[0mhasnans\u001b[0m\u001b[1;33m:\u001b[0m\u001b[1;33m\u001b[0m\u001b[1;33m\u001b[0m\u001b[0m\n",
            "\u001b[1;31mKeyError\u001b[0m: 'Close'"
          ]
        }
      ],
      "source": [
        "last_day = df[\"Close\"].shift(1)\n",
        "today    = df[\"Close\"]\n",
        "df[\"pct_chg1\"] =   ( (today - last_day) / last_day ) * 100\n",
        "df.head(3)"
      ]
    },
    {
      "cell_type": "markdown",
      "id": "9fa46501-78fc-4c27-ae77-5697b302fe86",
      "metadata": {
        "id": "9fa46501-78fc-4c27-ae77-5697b302fe86"
      },
      "source": [
        "## diff(N)\n",
        "* 변화량 : 현재가격 - N일가격 \n",
        "* <font size=4 color=red><b> N일 대비 가격 증감에 주로 사용\n",
        "* <font size=4 color=blue><b> df['close'].diff(1) = </font>  <font size=4 color=red><b> df['close'] - df['colse'].shift(1)"
      ]
    },
    {
      "cell_type": "code",
      "execution_count": null,
      "id": "34509eb7-b31d-4848-ac9f-ea251ad6c660",
      "metadata": {
        "id": "34509eb7-b31d-4848-ac9f-ea251ad6c660"
      },
      "outputs": [],
      "source": [
        "df['close_diff'] = df['close'].diff(1)\n",
        "df['close-close_shift'] = df['close'] - df['close_shift']\n",
        "df.head()"
      ]
    },
    {
      "cell_type": "markdown",
      "id": "ee635574-75b8-4006-9414-b319ffab7bec",
      "metadata": {
        "tags": [],
        "id": "ee635574-75b8-4006-9414-b319ffab7bec"
      },
      "source": [
        "## pct_change(N)\n",
        "* 백분위 변화율 : 현재가격 - N일가격 \n",
        "* <font size=4 color=red><b>전일 대비 수익률에 주로 사용"
      ]
    },
    {
      "cell_type": "code",
      "execution_count": null,
      "id": "57f2d203-a005-4153-8f45-d2939fece527",
      "metadata": {
        "id": "57f2d203-a005-4153-8f45-d2939fece527"
      },
      "outputs": [],
      "source": [
        "df['pct_chg'] = df['close'].pct_change()\n",
        "df.head()"
      ]
    },
    {
      "cell_type": "markdown",
      "id": "1b8dc926-1418-4d16-842d-2b132ce08f7b",
      "metadata": {
        "id": "1b8dc926-1418-4d16-842d-2b132ce08f7b"
      },
      "source": [
        "## rolling(window=N)\n",
        "*  N일 간격으로 그룹화해 가격을 집계\n",
        "* <font size=4 color=red><b> 이동평균선에 주로 사용"
      ]
    },
    {
      "cell_type": "code",
      "execution_count": null,
      "id": "8d699ac7-a71c-48a2-9d3f-bcd6cd9e04a7",
      "metadata": {
        "id": "8d699ac7-a71c-48a2-9d3f-bcd6cd9e04a7"
      },
      "outputs": [],
      "source": [
        "df['close'].rolling(window=5).mean()"
      ]
    },
    {
      "cell_type": "code",
      "execution_count": null,
      "id": "b3f96d5b-147c-434c-8f79-6ee0df6d4a13",
      "metadata": {
        "id": "b3f96d5b-147c-434c-8f79-6ee0df6d4a13"
      },
      "outputs": [],
      "source": [
        "df['close_ma5']   = df['close'].rolling(window=5).mean()\n",
        "df['close_ma20']  = df['close'].rolling(window=20).mean()\n",
        "df['close_ma60']  = df['close'].rolling(window=60).mean()\n",
        "df['close_ma120'] = df['close'].rolling(window=120).mean()\n",
        "df.head(3)"
      ]
    },
    {
      "cell_type": "markdown",
      "id": "a46df799-7622-45b0-a90d-96ae47b09727",
      "metadata": {
        "id": "a46df799-7622-45b0-a90d-96ae47b09727"
      },
      "source": [
        "## resample()\n",
        "* 업샘플링 : 보간법 사용해 샘플수 늘리기\n",
        "* 다운샘플링 : 집계 사용해 샘플수 줄이기"
      ]
    },
    {
      "cell_type": "code",
      "execution_count": null,
      "id": "890f9aa0-d3b8-4828-9af8-4b1982079b4e",
      "metadata": {
        "id": "890f9aa0-d3b8-4828-9af8-4b1982079b4e"
      },
      "outputs": [],
      "source": [
        "print(df.shape)\n",
        "df['close'].resample(rule='M').mean()  #월평균\n",
        "df.head(3)"
      ]
    },
    {
      "cell_type": "code",
      "execution_count": null,
      "id": "b9c28618-ccf8-480e-831e-aea9f93650ff",
      "metadata": {
        "id": "b9c28618-ccf8-480e-831e-aea9f93650ff"
      },
      "outputs": [],
      "source": [
        "print(df.shape)\n",
        "print( df['close'].resample(rule='MS').first() )  #매월 초 가격\n",
        "print( df['close'].resample(rule='M').last() )    #매월 말 가격"
      ]
    },
    {
      "cell_type": "code",
      "execution_count": null,
      "id": "ebebb752-8eb7-46f2-8f7c-e01321d02692",
      "metadata": {
        "id": "ebebb752-8eb7-46f2-8f7c-e01321d02692"
      },
      "outputs": [],
      "source": [
        ""
      ]
    },
    {
      "cell_type": "markdown",
      "id": "c2b7cfa8-8c15-4aa0-8e91-bdf9d4dd1974",
      "metadata": {
        "id": "c2b7cfa8-8c15-4aa0-8e91-bdf9d4dd1974"
      },
      "source": [
        "# [실습] FinanceDataReader"
      ]
    },
    {
      "cell_type": "markdown",
      "id": "a3c4ec22-3dfe-4696-ab31-c83029da7b5d",
      "metadata": {
        "id": "a3c4ec22-3dfe-4696-ab31-c83029da7b5d"
      },
      "source": [
        "* 시가총액 : 시가총액은 기업의 가치를 결정하는 지표\n",
        "          시가총액 = 주식 수 × 주식 1주당 가격\n",
        "\n",
        "* KOSPI : 한국증권거래소에 상장되어 거래되는 모든 주식의 시가총액을 합쳐서 주식시장 전체 장세의 흐름을 나타내는 지수\n",
        "          KOSPI 지수 = (현재 시가총액 합 / 1980. 1. 4 기준 시가총액 합) × 100\n",
        " \n",
        "*  KOSDAQ : 중소기업이나 신생 벤처기업을 위한 1996년 첨단 기술주 중심인 미국의 나스닥(NASDAQ) 시장을 본떠 만든 대한민국의 주식시장\n",
        "\n",
        "*  KOSPI 200 : 어업, 광업, 제조업, 전기가스업, 건설업, 서비스업, 통신업 등 8개의 산업군에서 각 산업을 대표할 수 있는 200개의 종목을 뽑아서 만든 지수\n",
        "\n",
        "*  KODEX 200 : 삼성자산운용에서 운용하는 ETF로, KOSPI 200을 추종(복제)하는 ETF\n",
        "\n",
        "*  ETF : 특정 주가지수 또는 금, 채권, 원유와 같은 특정 자산가격를 그대로 추종하는 성격을 지닌 금융상품"
      ]
    },
    {
      "cell_type": "markdown",
      "id": "a7da13ba-dcf8-49e6-8745-035e0f3af322",
      "metadata": {
        "id": "a7da13ba-dcf8-49e6-8745-035e0f3af322"
      },
      "source": [
        "## Data Load"
      ]
    },
    {
      "cell_type": "markdown",
      "id": "2c861220-3727-4120-8eff-895bd9397d2b",
      "metadata": {
        "id": "2c861220-3727-4120-8eff-895bd9397d2b"
      },
      "source": [
        "### FinanceDataReader 사용 시 "
      ]
    },
    {
      "cell_type": "code",
      "execution_count": null,
      "id": "4b7bc6a1-0d45-4d54-a935-ebf06f67b144",
      "metadata": {
        "id": "4b7bc6a1-0d45-4d54-a935-ebf06f67b144"
      },
      "outputs": [],
      "source": [
        "import FinanceDataReader as fdr\n",
        "df_ss = fdr.DataReader('005930', '2021-01-01', '2021-12-31', exchange='KRX') \n",
        "df_ss.head(3)"
      ]
    },
    {
      "cell_type": "markdown",
      "id": "ce804fc5-aabb-43b0-a75d-f9411aea1790",
      "metadata": {
        "id": "ce804fc5-aabb-43b0-a75d-f9411aea1790"
      },
      "source": [
        "* 현재 investing 에러.."
      ]
    },
    {
      "cell_type": "code",
      "execution_count": null,
      "id": "7fd6c256-f6b9-460b-a2b8-dff1f567c1e6",
      "metadata": {
        "id": "7fd6c256-f6b9-460b-a2b8-dff1f567c1e6"
      },
      "outputs": [],
      "source": [
        "# ! pip install -U finance-datareader "
      ]
    },
    {
      "cell_type": "code",
      "execution_count": null,
      "id": "b304d7d4-c094-47dd-9605-bbc3c15343c8",
      "metadata": {
        "id": "b304d7d4-c094-47dd-9605-bbc3c15343c8"
      },
      "outputs": [],
      "source": [
        "# df_aapl = fdr.DataReader('AMZN', '2021-01-01', '2021-12-31')\n",
        "# df_aapl = fdr.DataReader('AAPL', '2021-01-01', '2021-12-31')"
      ]
    },
    {
      "cell_type": "code",
      "execution_count": null,
      "id": "2ed48142-7016-49a9-8ac5-f3098a310736",
      "metadata": {
        "id": "2ed48142-7016-49a9-8ac5-f3098a310736"
      },
      "outputs": [],
      "source": [
        "Image(filename='./img/lec05_2.png', width = 600)"
      ]
    },
    {
      "cell_type": "code",
      "execution_count": null,
      "id": "98cbae9b-c058-4775-bd73-8e735187b0ab",
      "metadata": {
        "id": "98cbae9b-c058-4775-bd73-8e735187b0ab"
      },
      "outputs": [],
      "source": [
        "Image(filename='./img/lec05_1.png', width = 600)"
      ]
    },
    {
      "cell_type": "markdown",
      "id": "f69c7e90-6bc4-4b64-b196-fe3a9338facd",
      "metadata": {
        "tags": [],
        "id": "f69c7e90-6bc4-4b64-b196-fe3a9338facd"
      },
      "source": [
        "### pandas_datareader 사용 시"
      ]
    },
    {
      "cell_type": "code",
      "execution_count": null,
      "id": "97592957-7c8f-4c5a-94db-04ae85ab8f60",
      "metadata": {
        "id": "97592957-7c8f-4c5a-94db-04ae85ab8f60"
      },
      "outputs": [],
      "source": [
        "from pandas_datareader import data as pdr"
      ]
    },
    {
      "cell_type": "markdown",
      "id": "99167502-e86a-4039-a47c-a1a0cd5024eb",
      "metadata": {
        "id": "99167502-e86a-4039-a47c-a1a0cd5024eb"
      },
      "source": [
        "* 상장 회사 정보 가져오기"
      ]
    },
    {
      "cell_type": "code",
      "execution_count": null,
      "id": "7e118d1b-62dc-41c0-a71b-51ebb97371c8",
      "metadata": {
        "id": "7e118d1b-62dc-41c0-a71b-51ebb97371c8"
      },
      "outputs": [],
      "source": [
        "ticker_df = fdr.StockListing('KRX')  # 'KRX', 'KOSPI', 'KODAQ', 'KONEX'\n",
        "ticker_df.head()"
      ]
    },
    {
      "cell_type": "code",
      "execution_count": null,
      "id": "6e3ff9d6-db89-4d5b-81da-c9cdb54e6dd7",
      "metadata": {
        "id": "6e3ff9d6-db89-4d5b-81da-c9cdb54e6dd7"
      },
      "outputs": [],
      "source": [
        "ticker_df = fdr.StockListing('NASDAQ')  # 'NASDAQ', 'NYSE', 'AMEX' and 'S&P500', 'SSE'(상해), 'SZSE'(심천), 'HKEX'(홍콩), 'TSE'(도쿄)\n",
        "ticker_df.head()"
      ]
    },
    {
      "cell_type": "code",
      "execution_count": null,
      "id": "5d97d0aa-1ee2-44b4-aa5a-afec60e58cdf",
      "metadata": {
        "id": "5d97d0aa-1ee2-44b4-aa5a-afec60e58cdf"
      },
      "outputs": [],
      "source": [
        "# df_ss = pdr.DataReader(\"005930.KS\" ,start='2018-01-01' ,end='2019-12-31' ,data_source='yahoo' )\n",
        "df_ss = pdr.get_data_yahoo('005930.KS', '2021-01-01', '2021-12-31')\n",
        "print(df_ss.shape)\n",
        "df_ss.head(3)"
      ]
    },
    {
      "cell_type": "code",
      "execution_count": null,
      "id": "5228abf4-9e16-42d1-8af4-d0331c991c42",
      "metadata": {
        "id": "5228abf4-9e16-42d1-8af4-d0331c991c42"
      },
      "outputs": [],
      "source": [
        "df_ts = pdr.get_data_yahoo('TSLA', '2021-01-01', '2021-12-31')\n",
        "print(df_ts.shape)\n",
        "df_ts.head(3)"
      ]
    },
    {
      "cell_type": "markdown",
      "id": "9859419e-ff03-48f6-ad5b-7ccc8e5645f2",
      "metadata": {
        "id": "9859419e-ff03-48f6-ad5b-7ccc8e5645f2"
      },
      "source": [
        "### yfinance (pandas_datareader) 사용 시"
      ]
    },
    {
      "cell_type": "code",
      "execution_count": null,
      "id": "e4e908c3-164f-433a-9ba3-a8f98ba4e109",
      "metadata": {
        "id": "e4e908c3-164f-433a-9ba3-a8f98ba4e109"
      },
      "outputs": [],
      "source": [
        "from pandas_datareader import data as pdr\n",
        "import yfinance as yf\n",
        "yf.pdr_override()"
      ]
    },
    {
      "cell_type": "code",
      "execution_count": null,
      "id": "cf6ec155-10d3-4e49-8ce0-9f6a9eed2668",
      "metadata": {
        "id": "cf6ec155-10d3-4e49-8ce0-9f6a9eed2668"
      },
      "outputs": [],
      "source": [
        "df_ts = yf.download(\"TSLA\", start=\"2021-01-01\", end=\"2021-12-31\")\n",
        "df_ts.head()"
      ]
    },
    {
      "cell_type": "code",
      "execution_count": null,
      "id": "51946477-bbaf-445d-baed-df651ed58ce2",
      "metadata": {
        "id": "51946477-bbaf-445d-baed-df651ed58ce2"
      },
      "outputs": [],
      "source": [
        "plt.figure(figsize=(9, 6))\n",
        "plt.title('Samsung vs TSLA close')\n",
        "plt.plot(df_ss.index, df_ss['Close'], label='samsung')\n",
        "plt.plot(df_ts.index, df_ts['Close'], label='tsla')\n",
        "plt.legend()\n",
        "plt.show()"
      ]
    },
    {
      "cell_type": "markdown",
      "id": "f0eb7d7f-1690-4a5d-882d-0710ed56c231",
      "metadata": {
        "id": "f0eb7d7f-1690-4a5d-882d-0710ed56c231"
      },
      "source": [
        "## 일간변동률(Daily Percent Change) \n",
        "* <font color=red size=4><b>가격이 다른 두 주가의 수익률 비교\n",
        "* <font color=red>오늘 - 기준일 / 기준일 * 100\n",
        "* ref : https://www.investopedia.com/terms/p/percentage-change.asp"
      ]
    },
    {
      "cell_type": "markdown",
      "id": "f2dafa34-17f4-468a-ae1d-7db3416d0131",
      "metadata": {
        "id": "f2dafa34-17f4-468a-ae1d-7db3416d0131"
      },
      "source": [
        "<pre>\n",
        "* increase   = New Number - Original Number\n",
        "* increase%  = Increase ÷ Original Number × 100.\n",
        "* decrease   = Original Number - New Number\n",
        "* decrease%  = Decrease ÷ Original Number × 100\n",
        "\n",
        "  "
      ]
    },
    {
      "cell_type": "markdown",
      "id": "93e1ff78-0c5c-43d3-a0eb-65246dde2113",
      "metadata": {
        "id": "93e1ff78-0c5c-43d3-a0eb-65246dde2113"
      },
      "source": [
        "### df[\"Close\"].pct_change() "
      ]
    },
    {
      "cell_type": "code",
      "execution_count": null,
      "id": "d9d092fe-bab1-4c3f-b3dc-c6b923690c42",
      "metadata": {
        "id": "d9d092fe-bab1-4c3f-b3dc-c6b923690c42"
      },
      "outputs": [],
      "source": [
        "df_ss[\"pct_chg2\"] = df_ss[\"Close\"].pct_change() \n",
        "df_ts[\"pct_chg2\"] = df_ts[\"Close\"].pct_change() \n",
        "df_ss.head(3)"
      ]
    },
    {
      "cell_type": "markdown",
      "id": "c3c1895e-491e-4914-aa6b-ef99fb57484a",
      "metadata": {
        "id": "c3c1895e-491e-4914-aa6b-ef99fb57484a"
      },
      "source": [
        "### 결측 채우기"
      ]
    },
    {
      "cell_type": "code",
      "execution_count": null,
      "id": "d8e94b65-d058-4b80-b2cf-a78c3cded22f",
      "metadata": {
        "id": "d8e94b65-d058-4b80-b2cf-a78c3cded22f"
      },
      "outputs": [],
      "source": [
        "df_ss.fillna(method='bfill', inplace=True)\n",
        "df_ts.fillna(method='bfill', inplace=True)\n",
        "df_ss.head()"
      ]
    },
    {
      "cell_type": "markdown",
      "id": "7babcccd-0448-48dc-8177-54447f098820",
      "metadata": {
        "id": "7babcccd-0448-48dc-8177-54447f098820"
      },
      "source": [
        "### 차트"
      ]
    },
    {
      "cell_type": "code",
      "execution_count": null,
      "id": "3a538d57-7586-4539-be75-f465e73d729c",
      "metadata": {
        "id": "3a538d57-7586-4539-be75-f465e73d729c"
      },
      "outputs": [],
      "source": [
        "plt.figure(figsize=(9, 6))\n",
        "# plt.subplot(2, 1, 1)\n",
        "plt.title('Samsung vs MS close')\n",
        "plt.plot(df_ss.index, df_ss['pct_chg2'], label='samsung')\n",
        "plt.plot(df_ts.index, df_ts['pct_chg2'], label='TSLA')\n",
        "plt.legend()"
      ]
    },
    {
      "cell_type": "markdown",
      "id": "3bd19a05-356c-4ef0-8a02-ffea1bee3555",
      "metadata": {
        "id": "3bd19a05-356c-4ef0-8a02-ffea1bee3555"
      },
      "source": [
        "## 일간 변동률 누적합"
      ]
    },
    {
      "cell_type": "code",
      "execution_count": null,
      "id": "21229360-b86b-45b3-8c99-4f9a4b6484c2",
      "metadata": {
        "id": "21229360-b86b-45b3-8c99-4f9a4b6484c2"
      },
      "outputs": [],
      "source": [
        "plt.figure(figsize=(9, 6))\n",
        "plt.title('Samsung Elec')\n",
        "plt.plot(df_ss.index  , df_ss['change'].cumsum(), label='samsung')\n",
        "plt.plot(df_ts.index  , df_ts['change'].cumsum(), label='tsla')\n",
        "plt.legend()"
      ]
    },
    {
      "cell_type": "markdown",
      "id": "f92effea-bd1b-499c-9cd9-79e3b7bbe930",
      "metadata": {
        "id": "f92effea-bd1b-499c-9cd9-79e3b7bbe930"
      },
      "source": [
        "# [실습] 최대낙폭, 최대손실폭(Maximum DrowDown) : MDD \n",
        "* 특정 기간에서 발생한 최고점에서 최저점까지의 가장 큰 손실 == 최대 얼마의 손실이 날 수 있는가?\n",
        "* (65-130)/130=-50%"
      ]
    },
    {
      "cell_type": "markdown",
      "id": "65b66592-1d97-41ec-be27-c3d4d1fd8c7d",
      "metadata": {
        "id": "65b66592-1d97-41ec-be27-c3d4d1fd8c7d"
      },
      "source": [
        "<table>\n",
        "<tr>\n",
        "<td><img src='https://downloads.intercomcdn.com/i/o/79244225/7dad4f4f919e2be8a4a791e6/MDD.png?expires=1619851026&signature=aafb18bbd3ed5f6946ad53a5fb9f19d6dbc7316703c94667bc422babd38a2200'></td><br>\n",
        "<td><img src='https://downloads.intercomcdn.com/i/o/79243103/d9a69bea18818ef2f126a6f8/%E1%84%89%E1%85%B3%E1%84%8F%E1%85%B3%E1%84%85%E1%85%B5%E1%86%AB%E1%84%89%E1%85%A3%E1%86%BA+2018-10-04+15.48.43.png?expires=1619851026&signature=dcce134c2a4882b00790a53d5d8cba27350f8f48f8c59d681be007e99def032c'></td>\n",
        "</tr>\n",
        "</table>"
      ]
    },
    {
      "cell_type": "markdown",
      "id": "f5efe0c7-7046-43ea-9de0-506463730cb2",
      "metadata": {
        "id": "f5efe0c7-7046-43ea-9de0-506463730cb2"
      },
      "source": [
        "## Data Load "
      ]
    },
    {
      "cell_type": "code",
      "execution_count": null,
      "id": "f5cc4aa0-a35c-4509-8918-e20b61bd39ab",
      "metadata": {
        "id": "f5cc4aa0-a35c-4509-8918-e20b61bd39ab"
      },
      "outputs": [],
      "source": [
        "import FinanceDataReader as fdr\n",
        "ohlcv_df   = fdr.DataReader('005930', '2021')  # 삼성전자(005930) , 2017-01-01 ~ Now\n",
        "ohlcv_df.columns = [ str.lower() for str in ohlcv_df.columns]\n",
        "print(ohlcv_df.shape)\n",
        "ohlcv_df.head()"
      ]
    },
    {
      "cell_type": "markdown",
      "id": "11ef9436-b585-4b06-b378-bca9ce2737c3",
      "metadata": {
        "id": "11ef9436-b585-4b06-b378-bca9ce2737c3"
      },
      "source": [
        "## 1년 기준 최고가 "
      ]
    },
    {
      "cell_type": "code",
      "execution_count": null,
      "id": "ee0c3b52-bbb1-4e6d-ae4d-b6e3a2797619",
      "metadata": {
        "id": "ee0c3b52-bbb1-4e6d-ae4d-b6e3a2797619"
      },
      "outputs": [],
      "source": [
        "ohlcv_df['peak'] = ohlcv_df['close'].rolling(window=252, min_periods=1).max()\n",
        "ohlcv_df.head()"
      ]
    },
    {
      "cell_type": "markdown",
      "id": "015d13b6-69f4-47c7-8a5b-81cc07fd839e",
      "metadata": {
        "id": "015d13b6-69f4-47c7-8a5b-81cc07fd839e"
      },
      "source": [
        "## 최고가 대비 종가 비율"
      ]
    },
    {
      "cell_type": "code",
      "execution_count": null,
      "id": "2b974148-5e23-4b65-9848-1ed4aad1117a",
      "metadata": {
        "id": "2b974148-5e23-4b65-9848-1ed4aad1117a"
      },
      "outputs": [],
      "source": [
        "# 최고치 대비 현재 종가가 얼마나 하락했는가?\n",
        "ohlcv_df['close_pick_rate'] =  (ohlcv_df['close'] - ohlcv_df['peak']) / ohlcv_df['peak']\n",
        "ohlcv_df.head()"
      ]
    },
    {
      "cell_type": "markdown",
      "id": "0c2d42a9-2cf4-499e-82d3-852b6d0ad6f1",
      "metadata": {
        "id": "0c2d42a9-2cf4-499e-82d3-852b6d0ad6f1"
      },
      "source": [
        "## MDD"
      ]
    },
    {
      "cell_type": "code",
      "execution_count": null,
      "id": "6c89e2b2-104b-4461-85b7-017179ea9f33",
      "metadata": {
        "id": "6c89e2b2-104b-4461-85b7-017179ea9f33"
      },
      "outputs": [],
      "source": [
        "mdd = ohlcv_df.rolling(window=252, min_periods=1)['close_pick_rate'].min()\n",
        "mdd.min()"
      ]
    },
    {
      "cell_type": "code",
      "execution_count": null,
      "id": "a2412ec7-2b4f-43c5-98d0-2d128a6fdf00",
      "metadata": {
        "id": "a2412ec7-2b4f-43c5-98d0-2d128a6fdf00"
      },
      "outputs": [],
      "source": [
        "plt.figure(figsize=(9, 6))\n",
        "plt.title('KOSPI')\n",
        "plt.plot(ohlcv_df['close_pick_rate'], label='close_pick_rate')\n",
        "plt.plot(mdd, label='mdd')\n",
        "plt.legend()"
      ]
    },
    {
      "cell_type": "markdown",
      "id": "d5d87ed6-63c5-42bb-962e-15231f7153d0",
      "metadata": {
        "tags": [],
        "id": "d5d87ed6-63c5-42bb-962e-15231f7153d0"
      },
      "source": [
        "### 공통함수 생성"
      ]
    },
    {
      "cell_type": "markdown",
      "id": "8739d432-b115-40d8-b0cf-6826c3a9c7a5",
      "metadata": {
        "id": "8739d432-b115-40d8-b0cf-6826c3a9c7a5"
      },
      "source": [
        "* 차트 그리기"
      ]
    },
    {
      "cell_type": "code",
      "execution_count": null,
      "id": "c21fc46d-accc-449d-bb67-3a57f3a72602",
      "metadata": {
        "id": "c21fc46d-accc-449d-bb67-3a57f3a72602"
      },
      "outputs": [],
      "source": [
        "def myplot(df, nrows=5,  kind='line', title='제목', labels=False):  \n",
        "    if nrows > 0:\n",
        "        print(df.head(nrows))\n",
        "    else:\n",
        "        print(df.tail(nrows))\n",
        "    \n",
        "    if labels:\n",
        "        cols = df.columns\n",
        "        for i, col in enumerate(cols):\n",
        "            df[col].plot(label=labels[i], kind=kind)\n",
        "    else :\n",
        "        df.plot(kind=kind)\n",
        "    \n",
        "    plt.title(title)\n",
        "    plt.legend()\n",
        "    plt.show()"
      ]
    },
    {
      "cell_type": "code",
      "execution_count": null,
      "id": "0852e734-e60e-4fdf-a1d5-0fe58546ebca",
      "metadata": {
        "id": "0852e734-e60e-4fdf-a1d5-0fe58546ebca"
      },
      "outputs": [],
      "source": [
        "def myplotmix(df1, df2, y1='ylabel-1', y2='ylabel-2', kind1='bar', kind2='line', title='제목',  nrows1=5, nrows2=5,  labels=False):  \n",
        "    ytl=['b', 'g', 'r', 'c', 'm', 'y', 'k', 'w']\n",
        "\n",
        "    if nrows1 > 0:\n",
        "        print(df1.head(nrows1))\n",
        "    elif nrows1 < 0:\n",
        "        print(df1.tail(nrows1))\n",
        "    if nrows2 > 0:\n",
        "        print(df2.head(nrows2))\n",
        "    else:\n",
        "        print(df2.tail(nrows2))\n",
        "    fig, ax1 = plt.subplots(figsize=(12, 4))\n",
        "    ax2=ax1.twinx()\n",
        "    if kind1 == 'line':\n",
        "        df1.plot(kind=kind1, ax=ax2, marker='d',color='#e35f62')  #color='y', \n",
        "        df2.plot(kind=kind2, ax=ax1)  #bar\n",
        "    else:\n",
        "        df1.plot(kind=kind1, ax=ax1,color='#bcbd22')\n",
        "        df2.plot(kind=kind2, ax=ax2) #color='y',\n",
        "        \n",
        "    # df['date'] = df['date'].dt.strftime('%Y-%m-%d')\n",
        "    # ax1.set_xticklabels(df['date'])    \n",
        "    ax1.yaxis.tick_right()\n",
        "    ax2.yaxis.tick_left()\n",
        "    ax1.set_ylabel(y1) #, color='red')\n",
        "    ax2.set_ylabel(y2) #, color='red')\n",
        "    ax1.legend(loc=1)\n",
        "    ax2.legend(loc=2)\n",
        "    plt.title(title)\n",
        "    ax1.grid(False)\n",
        "    ax2.grid(False)\n",
        "    plt.show()"
      ]
    },
    {
      "cell_type": "markdown",
      "id": "4d3ac343-33f6-4cd0-87af-d96bb4320d80",
      "metadata": {
        "id": "4d3ac343-33f6-4cd0-87af-d96bb4320d80"
      },
      "source": [
        "# 키움증권 수익률 계산 예시"
      ]
    },
    {
      "cell_type": "markdown",
      "id": "b5d4fa82-60cb-43ba-9d3a-970b2ab22a82",
      "metadata": {
        "id": "b5d4fa82-60cb-43ba-9d3a-970b2ab22a82"
      },
      "source": [
        "* <b>투자원금평잔</b> = 평가 기간초 자산액계 + 기간내 총입출금고평잔\n",
        "* <b>평가손익</b> = 기간말자산액 - 기간초자산액 + 출금 - 입금 + 총출고 - 총입고 + 매도 - 매수\n",
        "* <b>수익률</b> = (평가손익/투자원금평잔) * 100"
      ]
    },
    {
      "cell_type": "markdown",
      "id": "dc434775-4d1a-402f-97f0-c6fc93e38448",
      "metadata": {
        "id": "dc434775-4d1a-402f-97f0-c6fc93e38448"
      },
      "source": [
        "<img src='https://t1.daumcdn.net/cfile/tistory/99FF84455EB80BED05'>"
      ]
    },
    {
      "cell_type": "code",
      "execution_count": null,
      "id": "2a4d887e-c2b2-4974-ae03-bd8874f86474",
      "metadata": {
        "id": "2a4d887e-c2b2-4974-ae03-bd8874f86474"
      },
      "outputs": [],
      "source": [
        ""
      ]
    }
  ],
  "metadata": {
    "kernelspec": {
      "display_name": "Python 3 (ipykernel)",
      "language": "python",
      "name": "python3"
    },
    "language_info": {
      "codemirror_mode": {
        "name": "ipython",
        "version": 3
      },
      "file_extension": ".py",
      "mimetype": "text/x-python",
      "name": "python",
      "nbconvert_exporter": "python",
      "pygments_lexer": "ipython3",
      "version": "3.8.8"
    },
    "toc-autonumbering": true,
    "colab": {
      "name": "lec05_금융_pandas_mission.ipynb",
      "provenance": [],
      "include_colab_link": true
    }
  },
  "nbformat": 4,
  "nbformat_minor": 5
}